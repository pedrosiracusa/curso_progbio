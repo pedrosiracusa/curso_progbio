{
 "cells": [
  {
   "cell_type": "markdown",
   "metadata": {},
   "source": [
    "<img src=\"docs/img/cbvs_logo.png\">\n",
    "\n",
    "# <center>Introdução à Lógica de Programação</center><a class=\"tocSkip\"></a>\n",
    "##  <center>Um roteiro prático para as Ciências da Conservação</center><a class=\"tocSkip\"></a>\n",
    "\n",
    "---\n",
    "##### <center>Instrutor: <a href=\"https://pedrosiracusa.github.io\" target=\"_blank\">Pedro C. de Siracusa</a></center><a class=\"tocSkip\"></a>"
   ]
  },
  {
   "cell_type": "markdown",
   "metadata": {
    "toc": true
   },
   "source": [
    "<h1>Conteúdos<span class=\"tocSkip\"></span></h1>\n",
    "<div class=\"toc\"><ul class=\"toc-item\"><li><span><a href=\"#Conceitos-iniciais\" data-toc-modified-id=\"Conceitos-iniciais-1\">Conceitos iniciais</a></span><ul class=\"toc-item\"><li><span><a href=\"#Tipos-e-Valores\" data-toc-modified-id=\"Tipos-e-Valores-1.1\">Tipos e Valores</a></span></li><li><span><a href=\"#Operadores-e-Expressões\" data-toc-modified-id=\"Operadores-e-Expressões-1.2\">Operadores e Expressões</a></span></li><li><span><a href=\"#Variáveis\" data-toc-modified-id=\"Variáveis-1.3\">Variáveis</a></span></li><li><span><a href=\"#Funções\" data-toc-modified-id=\"Funções-1.4\">Funções</a></span></li></ul></li><li><span><a href=\"#Projeto:-Monitoramento-de-mamíferos-no-PNB\" data-toc-modified-id=\"Projeto:-Monitoramento-de-mamíferos-no-PNB-2\">Projeto: Monitoramento de mamíferos no PNB</a></span><ul class=\"toc-item\"><li><span><a href=\"#Lendo-o-conteúdo-dos-arquivos\" data-toc-modified-id=\"Lendo-o-conteúdo-dos-arquivos-2.1\">Lendo o conteúdo dos arquivos</a></span></li><li><span><a href=\"#Explorando-os-diretórios-e-registros\" data-toc-modified-id=\"Explorando-os-diretórios-e-registros-2.2\">Explorando os diretórios e registros</a></span><ul class=\"toc-item\"><li><span><a href=\"#Listas\" data-toc-modified-id=\"Listas-2.2.1\">Listas</a></span></li><li><span><a href=\"#Estruturas-de-Repetição:-Loops\" data-toc-modified-id=\"Estruturas-de-Repetição:-Loops-2.2.2\">Estruturas de Repetição: Loops</a></span></li><li><span><a href=\"#Desafio-1.-Exportando-os-dados-para-CSV\" data-toc-modified-id=\"Desafio-1.-Exportando-os-dados-para-CSV-2.2.3\">Desafio 1. Exportando os dados para CSV</a></span></li></ul></li><li><span><a href=\"#Representando-o-Grid-experimental\" data-toc-modified-id=\"Representando-o-Grid-experimental-2.3\">Representando o Grid experimental</a></span></li><li><span><a href=\"#Criando-o-grid\" data-toc-modified-id=\"Criando-o-grid-2.4\">Criando o grid</a></span></li><li><span><a href=\"#Mapeando-as-câmeras-no-grid\" data-toc-modified-id=\"Mapeando-as-câmeras-no-grid-2.5\">Mapeando as câmeras no grid</a></span></li><li><span><a href=\"#Registrando-ocorrências-de-espécies-no-grid\" data-toc-modified-id=\"Registrando-ocorrências-de-espécies-no-grid-2.6\">Registrando ocorrências de espécies no grid</a></span><ul class=\"toc-item\"><li><span><a href=\"#Estruturas-Condicionais\" data-toc-modified-id=\"Estruturas-Condicionais-2.6.1\">Estruturas Condicionais</a></span><ul class=\"toc-item\"><li><span><a href=\"#A-construção-if\" data-toc-modified-id=\"A-construção-if-2.6.1.1\">A construção <em>if</em></a></span></li><li><span><a href=\"#A-construção-if-else\" data-toc-modified-id=\"A-construção-if-else-2.6.1.2\">A construção <em>if else</em></a></span></li></ul></li><li><span><a href=\"#Desafio-2.-Listando-as-espécies-registradas\" data-toc-modified-id=\"Desafio-2.-Listando-as-espécies-registradas-2.6.2\">Desafio 2. Listando as espécies registradas</a></span></li></ul></li><li><span><a href=\"#Visualizando-seu-mapa\" data-toc-modified-id=\"Visualizando-seu-mapa-2.7\">Visualizando seu mapa</a></span></li><li><span><a href=\"#Construindo-a-aplicação-final\" data-toc-modified-id=\"Construindo-a-aplicação-final-2.8\">Construindo a aplicação final</a></span></li></ul></li></ul></div>"
   ]
  },
  {
   "cell_type": "markdown",
   "metadata": {},
   "source": [
    "---"
   ]
  },
  {
   "cell_type": "markdown",
   "metadata": {},
   "source": [
    "Olá! Bem-vindo ao roteiro prático de programação para as Ciências da Conservação!\n",
    "Minha intenção com este material é introduzir, de maneira contextualizada, os conceitos mais fundamentais sobre **programação de computadores**.\n",
    "Para tornar o assunto mais interessante para profissionais e estudantes interessados nas Ciências da Conservação da Biodiversidade, utilizaremos como base um típico **problema motivador**."
   ]
  },
  {
   "cell_type": "markdown",
   "metadata": {},
   "source": [
    "#### O ambiente *Jupyter Notebook*<a class=\"tocSkip\"></a>"
   ]
  },
  {
   "cell_type": "markdown",
   "metadata": {},
   "source": [
    "Antes de começarmos, vale uma explicação sobre este documento que você está lendo.\n",
    "Na verdade, ele é um **ambiente de programação** chamado *Jupyter Notebook*, e é atualmente muito utilizado por profissionais que trabalham com análise de dados.\n",
    "O motivo de sua ampla adoção é que ele oferece um conjunto de utilidades que (i) facilitam nosso trabalho enquanto escrevemos código; (ii) permitem documentar nosso trabalho, com texto, de forma bastante dinâmica.\n",
    "Por trás dele há um **interpretador** da linguagem *Python* em execução, um programinha que fica responsável por \"interpretar\" o código que escrevemos e \"traduzi-lo\" para instruções que o computador possa processar e executar.\n",
    "\n",
    "O ambiente *notebook* é composto por **células**, em que podemos inserir código ou texto (como este que você está lendo). \n",
    "As **células de código** (você verá a palavra \"*In*\" ao lado) podem ser executadas, mostrando logo abaixo o resultado da execução.\n",
    "Já as **células de texto** não geram saída. Elas apenas renderizam o texto no formato *markdown*.\n",
    "Você poderá criar, excluir, mover, editar células como bem desejar. E o resultado ficará guardado no seu documento, caso você queira consultar depois. Você pode até mesmo gerar um pdf e imprimi-lo!\n",
    "\n",
    "No entanto, o *Jupyter Notebook* tem um caráter bastante **experimental**. Isso significa que ele serve muito bem para testar ideias, mas raramente construiremos programas complexos com ele. Para isso, utilizaríamos uma IDE (*Integrated Development Environment*), como por exemplo o [Visual Studio Code](https://code.visualstudio.com/). Mas vamos deixar este assunto para outro momento... \n",
    "Afinal, o que importa agora é começar a programar!\n",
    "Vamos então primeiramente passar por alguns conceitos fundamentais."
   ]
  },
  {
   "cell_type": "markdown",
   "metadata": {},
   "source": [
    "# Conceitos iniciais"
   ]
  },
  {
   "cell_type": "markdown",
   "metadata": {},
   "source": [
    "## Tipos e Valores"
   ]
  },
  {
   "cell_type": "markdown",
   "metadata": {},
   "source": [
    "**Tipos** são abstrações fundamentais nas linguagens de programação que nos permitem representar **elementos de informação**, por meio dos quais o programador pode representar coisas ou conceitos do mundo físico. \n",
    "O tipo serve para agrupar o pedaço informação em uma \"forma genérica\", adicionando semantica à informação.\n",
    "Já o **valor** é o elemento da informação em si.\n",
    "É comum dizer que \"um valor de tal tipo\".\n",
    "\n",
    "Por exemplo, você poderia usar um número para representar a área de uma reserva natural, em hectares.\n",
    "Ou mesmo para representar o tamanho populacional de alguma espécie que ocorre nele, em número de indivíduos.\n",
    "Neste caso, usamos um mesmo **tipo** (numérico) para representar cada um destes dois **valores** (veremos abaixo que existe mais de um tipo numérico). "
   ]
  },
  {
   "cell_type": "markdown",
   "metadata": {},
   "source": [
    "Cada linguagem possui um conjunto de *tipos primitivos* (ou fundamentais).\n",
    "Vamos então conhecer os principais tipos primitivos, que já vêm definidos na linguagem *Python*:\n",
    "\n",
    "* Tipos **numéricos**:\n",
    " * **Integer** (inteiros): Permite representar números inteiros, por exemplo `4`.\n",
    " * **Float** (ponto flutuante): Permite representar números com parte decimal, por exemplo `42.5`.\n",
    "\n",
    "* **String**: Permite representar informação na forma de texto, por exemplo `\"Palavra\"` ou `\"C\"`. Usamos aspas (duplas ou simples) para representar informação textual. \n",
    "\n",
    "* **Boolean**: Representa informação lógica binária, podendo assumir apenas dois valores: `True` ou `False`. \n",
    "\n",
    "**Obs:** Em muitas outras linguagens de programação existe também o tipo caractere (ou char). Porém, em *Python* um caractere é representado como uma string de comprimento 1."
   ]
  },
  {
   "cell_type": "code",
   "execution_count": 1,
   "metadata": {},
   "outputs": [
    {
     "name": "stdout",
     "output_type": "stream",
     "text": [
      "42\n",
      "42.2\n",
      "Olá, conservacionista!\n",
      "e\n",
      "True\n",
      "False\n"
     ]
    }
   ],
   "source": [
    "# A linha marcada por um \"#\" é um comentário\n",
    "# Todo o conteúdo à DIREITA do \"#\" será IGNORADO pelo interpretador!\n",
    "# Comentários servem basicamente para deixar mensagens para outros programadores...\n",
    "# mas também servem para impedir a execução de uma linha de código de forma rápida!\n",
    "\n",
    "# Um numero inteiro (int)\n",
    "print(42)\n",
    "\n",
    "# Um número de ponto flutuante (float)\n",
    "print(42.2)\n",
    "\n",
    "# Um texto (string)\n",
    "print( \"Olá, conservacionista!\")\n",
    "\n",
    "# Um caractere (string)\n",
    "print(\"e\")\n",
    "\n",
    "# Valores booleanos (bool)\n",
    "print(True)\n",
    "print(False)"
   ]
  },
  {
   "cell_type": "markdown",
   "metadata": {},
   "source": [
    "## Operadores e Expressões"
   ]
  },
  {
   "cell_type": "markdown",
   "metadata": {},
   "source": [
    "**Operadores** são os símbolos que especificam as computações mais fundamentais, como por exemplo soma, subtração, multiplicação e divisão. Sempre que aplicamos um operador sobre dois operandos, esperamos obter algum resultado imediatamente. Podemos combinar vários operadores e operandos, construindo assim **expressões**. Veja na tabela abaixo os principais operadores numéricos da linguagem *Python*."
   ]
  },
  {
   "cell_type": "markdown",
   "metadata": {},
   "source": [
    "| Operação| Operador| Exemplo | Resultado\n",
    "|:-|---|-:|--|\n",
    "| Soma      | `+` | `9 + 7` | `16` |\n",
    "| Subtração | `-` | `9 - 7` | `2` |\n",
    "| Multiplicação | `*` | `9 * 7` | `63` |\n",
    "| Divisão | `/` | `5 / 2`| `2.5` | \n",
    "| Divisão inteira | `//` | `5 // 2`| `2` | \n",
    "| Exponenciação | `**` | `9**2` | `81` |\n",
    "| Módulo | `%` | `9 % 2` | `1` |\n"
   ]
  },
  {
   "cell_type": "markdown",
   "metadata": {},
   "source": [
    "Portanto uma das formas mais básicas de se utilizar o interpretador é como uma calculadora "
   ]
  },
  {
   "cell_type": "code",
   "execution_count": 2,
   "metadata": {},
   "outputs": [
    {
     "name": "stdout",
     "output_type": "stream",
     "text": [
      "9+7 = 16\n",
      "9-7 = 2\n",
      "9*7 = 63\n",
      "5/2 = 2.5\n",
      "5//2 = 2\n",
      "9**2 = 81\n",
      "9%2 = 1\n"
     ]
    }
   ],
   "source": [
    "# Soma\n",
    "print(\"9+7 =\", 9+7)\n",
    "\n",
    "# Subtração\n",
    "print(\"9-7 =\", 9-7)\n",
    "\n",
    "# Multiplicação\n",
    "print(\"9*7 =\", 9*7)\n",
    "\n",
    "# Divisão\n",
    "print(\"5/2 =\", 5/2)\n",
    "\n",
    "# Divisão inteira\n",
    "print(\"5//2 =\", 5//2)\n",
    "\n",
    "# Exponenciação\n",
    "print(\"9**2 =\", 9**2)\n",
    "\n",
    "# Módulo\n",
    "print(\"9%2 =\", 9%2)"
   ]
  },
  {
   "cell_type": "markdown",
   "metadata": {},
   "source": [
    "## Variáveis"
   ]
  },
  {
   "cell_type": "markdown",
   "metadata": {},
   "source": [
    "Quando estamos programando, frequentemente precisamos armazenar valores obtidos em etapas anteriores em memória.\n",
    "Assim, podemos re-utilizar estes valores sem precisar repetir todo o código.\n",
    "Linguagens de programação oferecem uma maneira bastante intuitiva para isso, por meio de **variáveis**.\n",
    "O símbolo que usamos para **atribuir** valores a variáveis é o sinal de igual (`=`). Na linguagem *Python*, uma variável é criada assim que atribuímos algum valor a ela.\n",
    "Pense em uma variável como uma \"caixinha\" que guarda valores.\n",
    "\n",
    "**obs:** O nome da variável sempre deve ser escrito à esquerda do símbolo `=`, e o valor a ser atribuído à variável, à direita."
   ]
  },
  {
   "cell_type": "code",
   "execution_count": 3,
   "metadata": {},
   "outputs": [],
   "source": [
    "nomeCientifico = \"Chrysocyon brachyurus\"\n",
    "nomePopular = \"Lobo Guará\"\n",
    "altura = 0.75\n",
    "peso = 23\n",
    "ocorreNoCerrado = True"
   ]
  },
  {
   "cell_type": "code",
   "execution_count": 4,
   "metadata": {},
   "outputs": [
    {
     "name": "stdout",
     "output_type": "stream",
     "text": [
      "Chrysocyon brachyurus\n"
     ]
    }
   ],
   "source": [
    "print(nomeCientifico)"
   ]
  },
  {
   "cell_type": "code",
   "execution_count": 5,
   "metadata": {},
   "outputs": [
    {
     "name": "stdout",
     "output_type": "stream",
     "text": [
      "0.75\n"
     ]
    }
   ],
   "source": [
    "print(altura)"
   ]
  },
  {
   "cell_type": "code",
   "execution_count": 6,
   "metadata": {},
   "outputs": [
    {
     "name": "stdout",
     "output_type": "stream",
     "text": [
      "True\n"
     ]
    }
   ],
   "source": [
    "print(ocorreNoCerrado)"
   ]
  },
  {
   "cell_type": "markdown",
   "metadata": {},
   "source": [
    "## Funções"
   ]
  },
  {
   "cell_type": "markdown",
   "metadata": {},
   "source": [
    "Funções são construções que **encapsulam** um determinado comportamento que se espera executar múltiplas vezes durante a execução de um programa. São rotinas, que podem ter sido definidas pelo próprio programador ou por outros programadores.\n",
    "Elas simplificam bastante o trabalho do programador, por esconder partes de código complexo, que não necessariamente seriam úteis naquele momento. O programador só precisa saber o que a função faz: que tipos de coisas deve fornecer como **entrada** (*input*) e o que deve esperar receber como **saída** (*output*).\n",
    "\n",
    "<img src=\"img/functions.png\">"
   ]
  },
  {
   "cell_type": "markdown",
   "metadata": {},
   "source": [
    "Resumindo, funções facilitam sua vida por dois motivos principais. \n",
    "\n",
    "1. Permitem ao programador **abstrair** computações, sem precisar se preocupar a todo momento sobre os mínimos detalhes de como elas são de fato realizadas. Imagine se você tivesse que se preocupar com os detalhes sobre como um texto é imprimido na tela de seu computador toda vez que você precisasse desta funcionalidade... Felizmente a função `print`, que utilizamos no nosso programa \"Hello World\", permite que esta rotina seja abstraída para você, o que facilita bastante seu aprendizado! \n",
    "\n",
    "2. Permitem **compartilhar** e **reutilizar** código. Se você construir uma função que possa ajudar outras pessoas também, por que não compartilhar? Isso acontece bastante na comunidade de programadores, e os ajuda a não ficar \"reinventando a roda\" quando precisam de alguma funcionalidade que já foi implementada por alguém. "
   ]
  },
  {
   "cell_type": "code",
   "execution_count": 7,
   "metadata": {},
   "outputs": [
    {
     "name": "stdout",
     "output_type": "stream",
     "text": [
      "Texto 1 42.4 True\n"
     ]
    }
   ],
   "source": [
    "# A função `print` imprime dados no console. Aceita um ou mais argumentos, separados por vírgula!\n",
    "print(\"Texto\", 1, 42.4, True)"
   ]
  },
  {
   "cell_type": "code",
   "execution_count": 8,
   "metadata": {},
   "outputs": [
    {
     "name": "stdout",
     "output_type": "stream",
     "text": [
      "Qual seu nome?Pedro\n",
      "Olá, Pedro. Vamos aprender a programar?\n"
     ]
    }
   ],
   "source": [
    "# A função `input` requisita ao usuário que insira dados pelo console\n",
    "entrada_usuario = input(\"Qual seu nome?\")\n",
    "print( \"Olá, \" + entrada_usuario + \". Vamos aprender a programar?\" )"
   ]
  },
  {
   "cell_type": "code",
   "execution_count": 9,
   "metadata": {},
   "outputs": [
    {
     "name": "stdout",
     "output_type": "stream",
     "text": [
      "14\n"
     ]
    }
   ],
   "source": [
    "# A função `len` informa o tamanho de uma string\n",
    "print( len(\"Vida Silvestre\") )"
   ]
  },
  {
   "cell_type": "code",
   "execution_count": 10,
   "metadata": {},
   "outputs": [
    {
     "name": "stdout",
     "output_type": "stream",
     "text": [
      "3\n",
      "3.0\n",
      "3.4\n"
     ]
    }
   ],
   "source": [
    "# As funções `int` e `float` convertem um número representado em uma string em um tipo numérico\n",
    "print( int(\"3\") )\n",
    "print( float(\"3\"))\n",
    "print( float(\"3.4\") )"
   ]
  },
  {
   "cell_type": "code",
   "execution_count": 11,
   "metadata": {},
   "outputs": [
    {
     "name": "stdout",
     "output_type": "stream",
     "text": [
      "129\n"
     ]
    }
   ],
   "source": [
    "# A função `max` recebe um conjunto números como argumentos (2 ou mais) e retorna o maior deles\n",
    "print( max(40, 2, 129, 13) )"
   ]
  },
  {
   "cell_type": "code",
   "execution_count": 12,
   "metadata": {},
   "outputs": [
    {
     "name": "stdout",
     "output_type": "stream",
     "text": [
      "2\n"
     ]
    }
   ],
   "source": [
    "# A função `min` recebe um conjunto números como argumentos (2 ou mais) e retorna o menor deles\n",
    "print( min(40, 2, 129, 13) )"
   ]
  },
  {
   "cell_type": "markdown",
   "metadata": {},
   "source": [
    "---"
   ]
  },
  {
   "cell_type": "markdown",
   "metadata": {},
   "source": [
    "# Projeto: Monitoramento de mamíferos no PNB"
   ]
  },
  {
   "cell_type": "markdown",
   "metadata": {},
   "source": [
    "##### Contextualização\n",
    "\n",
    "Você está participando de um levantamento dos mamíferos que ocorrem no *Parque Nacional de Brasília* e está utilizando [armadilhas fotográficas](http://www.euquerobiologia.com.br/2012/02/armadilhas-fotograficas-para-estudo-de.html) (*camera traps*) para obter os registros. No experimento o território estudado foi dividido em um *grid* de 100 células (10x10), cada qual contendo uma armadilha. A Figura 1 ilustra a disposição das câmeras no grid."
   ]
  },
  {
   "cell_type": "markdown",
   "metadata": {},
   "source": [
    "<img src=\"img/trapcams_diagram.png\">"
   ]
  },
  {
   "cell_type": "markdown",
   "metadata": {},
   "source": [
    "Cada armadilha grava cada registro em um arquivo separado no cartão de memória, que são copiados para seu computador quando sua equipe vai a campo fazer as revisões. Para manter a organização sua equipe resolveu guardar os registros de cada câmera em diretórios separados, que levam o nome da câmera. Ao final do levantamento você precisará gerar um mapa de ocorrência das espécies, que indicará quais espécies foram registradas em quais áreas. Seus colegas sugeriram que você analisasse cada um dos arquivos das 100 câmeras a cada revisão e adicionasse os novos dados a uma planilha no *Excel*. Mas como você já conhece um pouco sobre programação sabe que existe uma maneira muito mais prática de fazer este trabalho. Você quer desenvolver uma aplicação que receba do usuário o nome de uma espécie e automaticamente mostre o mapa da distribuição daquela espécie no grid."
   ]
  },
  {
   "cell_type": "markdown",
   "metadata": {},
   "source": [
    "##### Desenvolvimento"
   ]
  },
  {
   "cell_type": "markdown",
   "metadata": {},
   "source": [
    "Inicialmente precisaremos extrair os registros de cada um dos arquivos em cada câmera. Os arquivos estão no diretório `./ctraps`, separados em subdiretórios para cada uma das 100 câmeras. A notação `./` significa \"diretório atual\". Sendo assim, `./ctraps` se refere ao subdiretório chamado `ctraps` localizado no diretório em que estamos trabalhando atualmente. Para cada diretório referente a cada câmera existem arquivos que contêm registros de espécies. Por exemplo no diretório `./ctraps/cam013` existem quatro arquivos `REC1.txt`, `REC2.txt`, `REC3.txt` e `REC4.txt`, cada um contendo o nome de uma espécie. Vejamos a seguir como percorrer diretórios e ler/escrever arquivos no sistema."
   ]
  },
  {
   "cell_type": "markdown",
   "metadata": {},
   "source": [
    "> **Obs**: Se você está em sistema operacional *Microsoft Windows* diretórios são representados com \"`\\`\" no lugar de \"`/`\". No ambiente *Python*, entretanto, você pode continuar usando a representação adotada em sistemas *UNIX* \"`/`\"."
   ]
  },
  {
   "cell_type": "markdown",
   "metadata": {},
   "source": [
    "Vamos então nos certificar que o diretório com os arquivos de registro de câmeras trap já estão no nosso diretório de trabalho. Veja a célula abaixo."
   ]
  },
  {
   "cell_type": "code",
   "execution_count": 13,
   "metadata": {},
   "outputs": [],
   "source": [
    "# Se estiver em ambiente Google Colab, descomente e execute o comando abaixo para importar os dados\n",
    "\n",
    "# !git clone https://github.com/pedrosiracusa/prog_conservacao.git && cp -r prog_conservacao/data/ctraps ./data2 && rm -r prog_conservacao"
   ]
  },
  {
   "cell_type": "markdown",
   "metadata": {},
   "source": [
    "## Lendo o conteúdo dos arquivos"
   ]
  },
  {
   "cell_type": "markdown",
   "metadata": {},
   "source": [
    "O primeiro passo para resolver nosso problema é saber como trabalhar com arquivos.\n",
    "Na linguagem *Python* esta tarefa é bastante simples!"
   ]
  },
  {
   "cell_type": "markdown",
   "metadata": {},
   "source": [
    "##### Para ler um arquivo\n",
    "Utilize a função **`open`**, que recebe como *input* o caminho (*path*) para o arquivo e fornece como *output* uma referência ao arquivo aberto (*file handle*).\n",
    "\n",
    "**Obs:** **Nunca** se equeça de fechar um arquivo depois de trabalhar com ele! Utilize o método `f.close()`, sendo `f` a referência ao arquivo!"
   ]
  },
  {
   "cell_type": "code",
   "execution_count": 14,
   "metadata": {},
   "outputs": [
    {
     "name": "stdout",
     "output_type": "stream",
     "text": [
      "Cerdocyon thous\n"
     ]
    }
   ],
   "source": [
    "path = './data/ctraps/cam001/REC1.txt'\n",
    "\n",
    "f = open(path) # esta linha abre o arquivo\n",
    "nomeEspecie = f.read() # esta linha lê o conteúdo do arquivo\n",
    "f.close() # esta linha fecha o arquivo\n",
    "\n",
    "print(nomeEspecie)"
   ]
  },
  {
   "cell_type": "markdown",
   "metadata": {},
   "source": [
    "A função [`open`](https://docs.python.org/3/library/functions.html#open) é utilizada tanto para a leitura quanto para a escrita de arquivos. Uma vez que um arquivo é aberto o programador pode operar sobre ele, utilizando uma série de [**métodos**](https://docs.python.org/3/tutorial/inputoutput.html#methods-of-file-objects)."
   ]
  },
  {
   "cell_type": "markdown",
   "metadata": {},
   "source": [
    "> O conceito de **métodos** está além dos objetivos desta aula, portanto para simplificar seu entendimento considere que eles se comportam como funções. Para identificá-los perceba que métodos são sempre precedidos por um ponto em *Python*. Caso você queira entender um pouco mais sobre eles comece pesquisando sobre [**programação orientada a objetos**](http://www.devmedia.com.br/os-4-pilares-da-programacao-orientada-a-objetos/9264)."
   ]
  },
  {
   "cell_type": "markdown",
   "metadata": {},
   "source": [
    "Aprendemos a ler um arquivo.\n",
    "Agora, como fazer para navegar todas as câmeras e ler cada um de seus registros? São 100 câmeras! Repetir este código mais de 100 vezes seria extremamente trabalhoso!\n",
    "\n",
    "É verdade! Mas na verdade escreveremos este código apenas uma vez, graças às **estruturas de repetição**! Mas antes vamos ver como explorar os diretórios."
   ]
  },
  {
   "cell_type": "markdown",
   "metadata": {},
   "source": [
    "## Explorando os diretórios e registros"
   ]
  },
  {
   "cell_type": "markdown",
   "metadata": {},
   "source": [
    "Sistemas operacionais diferentes armazenam arquivos usando *sistemas de arquivos* distintos. O *Python* possui funcionalidades para abstrair estas particularidades e fornece ao programador um conjunto de funcionalidades para realizar leitura e escrita de arquivos de forma transparente, independentemente da plataforma que está utilizando (*Windows*, *MacOS* ou *Linux*). Estas funcionalidades estão no **módulo** [`os`](https://docs.python.org/3/library/os.html#module-os) (OS de *Operating System*, ou sistema operacional). Para utilizá-las precisamos **importar** o módulo."
   ]
  },
  {
   "cell_type": "markdown",
   "metadata": {},
   "source": [
    "> **Módulos** são arquivos de código (extensão `.py`) que possuem definições e declarações de funções, variáveis ou configurações. São utilizados para tornar o código reutilizável, reunindo funcionalidades auto-suficientes e facilmente \"plugáveis\". Veja o [índice de módulos](https://docs.python.org/3/py-modindex.html) do *Python*. Conjuntos de módulos que servem para uma finalidade comum podem ser agrupados em **pacotes**. Pacotes podem ser pensados como diretórios que reúnem módulos. Quando queremos utilizar um módulo precisamos **importá-lo**, utilizando para isso a palavra `import`."
   ]
  },
  {
   "cell_type": "markdown",
   "metadata": {},
   "source": [
    "Vejamos como percorrer a árvore de arquivos e diretórios que se encontram sob um diretório de origem (chamado **diretório-raiz**). A função [`listdir`](https://docs.python.org/3/library/os.html#os.listdir) do módulo `os` lista arquivos e subdiretórios de um determinado diretório-raiz. Como `listdir` pertence ao módulo importado `os`, para invocá-la precisamos informar isto explicitamente e usar a notação `os.listdir()`."
   ]
  },
  {
   "cell_type": "code",
   "execution_count": 15,
   "metadata": {},
   "outputs": [],
   "source": [
    "import os # o módulo precisa ser importado apenas uma vez durante a sessão"
   ]
  },
  {
   "cell_type": "code",
   "execution_count": 16,
   "metadata": {},
   "outputs": [
    {
     "name": "stdout",
     "output_type": "stream",
     "text": [
      "['cam001', 'cam002', 'cam003', 'cam004', 'cam005', 'cam006', 'cam007', 'cam008', 'cam009', 'cam010', 'cam011', 'cam012', 'cam013', 'cam014', 'cam015', 'cam016', 'cam017', 'cam018', 'cam019', 'cam020', 'cam021', 'cam022', 'cam023', 'cam024', 'cam025', 'cam026', 'cam027', 'cam028', 'cam029', 'cam030', 'cam031', 'cam032', 'cam033', 'cam034', 'cam035', 'cam036', 'cam037', 'cam038', 'cam039', 'cam040', 'cam041', 'cam042', 'cam043', 'cam044', 'cam045', 'cam046', 'cam047', 'cam048', 'cam049', 'cam050', 'cam051', 'cam052', 'cam053', 'cam054', 'cam055', 'cam056', 'cam057', 'cam058', 'cam059', 'cam060', 'cam061', 'cam062', 'cam063', 'cam064', 'cam065', 'cam066', 'cam067', 'cam068', 'cam069', 'cam070', 'cam071', 'cam072', 'cam073', 'cam074', 'cam075', 'cam076', 'cam077', 'cam078', 'cam079', 'cam080', 'cam081', 'cam082', 'cam083', 'cam084', 'cam085', 'cam086', 'cam087', 'cam088', 'cam089', 'cam090', 'cam091', 'cam092', 'cam093', 'cam094', 'cam095', 'cam096', 'cam097', 'cam098', 'cam099', 'cam100']\n"
     ]
    }
   ],
   "source": [
    "print( os.listdir('./data/ctraps/') )"
   ]
  },
  {
   "cell_type": "markdown",
   "metadata": {},
   "source": [
    "A função `listdir` retorna o resultado em uma estrutura nativa do *Python* chamada **lista**!\n",
    "Antes de prosseguir, vamos entender um pouco mais como as listas funcionam!"
   ]
  },
  {
   "cell_type": "markdown",
   "metadata": {},
   "source": [
    "### Listas"
   ]
  },
  {
   "cell_type": "markdown",
   "metadata": {},
   "source": [
    "**Listas** são representadas pelo tipo *list*, e permitem armazenar um conjunto de valores em uma única estrutura! Cada elemento ocupando uma posição dentro da lista é chamado de **item** (ou **elemento**). O número de itens que uma lista armazena é referido como seu **comprimento**. A princípio não há limites para o comprimento de uma lista, embora listas grandes demais certamente exigem mais recursos computacionais, podendo se tornar intratáveis.  Outra característica importante das listas é que elas permitem armazenar itens de tipos diferentes dentro de uma mesma estrutura (embora seja mais usual armazenar itens do mesmo tipo). Podemos por exemplo armazenar dentro de uma única lista *strings*, *booleanos*, *inteiros*, *floats*, e até outras *listas*!"
   ]
  },
  {
   "cell_type": "markdown",
   "metadata": {},
   "source": [
    "<img src=\"img/lists.png\" width=\"400px\">"
   ]
  },
  {
   "cell_type": "markdown",
   "metadata": {},
   "source": [
    "Na ilustração acima, temos uma lista de comprimento 5, armazenando itens de tipos diferentes. Cada item da lista ocupa um espaço próprio, representado como um \"quadradinho\". Os números abaixo de cada quadrado representam os **índices** de cada item na lista. Os índices nada mais são que endereços numéricos, que nos permitem referenciar elementos em cada posição na lista. Por exemplo, se quisermos nos referir ao número 42, indicaremos o índice (ou endereço) 2.\n",
    "\n",
    "**Obs:** Em *Python*, a numeração dos índices começa em zero, e portanto o primeiro elemento se encontra na posição 0. Da mesma forma, o último item de uma lista de comprimento $n$ se encontra na posição $n-1$."
   ]
  },
  {
   "cell_type": "markdown",
   "metadata": {},
   "source": [
    "Para construir uma lista vazia"
   ]
  },
  {
   "cell_type": "code",
   "execution_count": 17,
   "metadata": {},
   "outputs": [
    {
     "name": "stdout",
     "output_type": "stream",
     "text": [
      "[]\n"
     ]
    }
   ],
   "source": [
    "l = []\n",
    "\n",
    "print(l)"
   ]
  },
  {
   "cell_type": "markdown",
   "metadata": {},
   "source": [
    "Para construir uma lista pré populada com $n$ elementos iguais"
   ]
  },
  {
   "cell_type": "code",
   "execution_count": 18,
   "metadata": {},
   "outputs": [
    {
     "name": "stdout",
     "output_type": "stream",
     "text": [
      "[31, 31, 31, 31, 31]\n"
     ]
    }
   ],
   "source": [
    "l = [31]*5\n",
    "\n",
    "print(l)"
   ]
  },
  {
   "cell_type": "markdown",
   "metadata": {},
   "source": [
    "Para construir uma lista pré-populada"
   ]
  },
  {
   "cell_type": "code",
   "execution_count": 19,
   "metadata": {},
   "outputs": [
    {
     "name": "stdout",
     "output_type": "stream",
     "text": [
      "['Olá', True, 42, 9.87, [1, 2, 3]]\n"
     ]
    }
   ],
   "source": [
    "l = [ \"Olá\", True, 42, 9.87, [1,2,3] ]\n",
    "\n",
    "print(l)"
   ]
  },
  {
   "cell_type": "markdown",
   "metadata": {},
   "source": [
    "Para resgatar elementos de dentro dela"
   ]
  },
  {
   "cell_type": "code",
   "execution_count": 20,
   "metadata": {},
   "outputs": [
    {
     "name": "stdout",
     "output_type": "stream",
     "text": [
      "Olá\n",
      "True\n",
      "[1, 2, 3]\n"
     ]
    }
   ],
   "source": [
    "# O primeiro elemento está no índice 0\n",
    "print(l[0])\n",
    "\n",
    "# O segundo elemento está no índice 1\n",
    "print(l[1])\n",
    "\n",
    "# O último elemento está no índice n-1\n",
    "print(l[4])"
   ]
  },
  {
   "cell_type": "markdown",
   "metadata": {},
   "source": [
    "Para mudar um elemento dentro da lista"
   ]
  },
  {
   "cell_type": "code",
   "execution_count": 21,
   "metadata": {},
   "outputs": [
    {
     "name": "stdout",
     "output_type": "stream",
     "text": [
      "['Olá', False, 42, 9.87, [1, 2, 3]]\n"
     ]
    }
   ],
   "source": [
    "l[1] = False\n",
    "\n",
    "print(l)"
   ]
  },
  {
   "cell_type": "markdown",
   "metadata": {},
   "source": [
    "Para adicionar elementos na lista"
   ]
  },
  {
   "cell_type": "code",
   "execution_count": 22,
   "metadata": {},
   "outputs": [
    {
     "name": "stdout",
     "output_type": "stream",
     "text": [
      "['Olá', False, 42, 9.87, [1, 2, 3], 'Novo']\n"
     ]
    }
   ],
   "source": [
    "l = l + [\"Novo\"]\n",
    "\n",
    "print(l)"
   ]
  },
  {
   "cell_type": "markdown",
   "metadata": {},
   "source": [
    "Para verificar se um dado elemento existe na lista"
   ]
  },
  {
   "cell_type": "code",
   "execution_count": 23,
   "metadata": {},
   "outputs": [
    {
     "name": "stdout",
     "output_type": "stream",
     "text": [
      "True\n"
     ]
    }
   ],
   "source": [
    "print( 42 in l )"
   ]
  },
  {
   "cell_type": "markdown",
   "metadata": {},
   "source": [
    "Para concatenar listas"
   ]
  },
  {
   "cell_type": "code",
   "execution_count": 24,
   "metadata": {},
   "outputs": [
    {
     "name": "stdout",
     "output_type": "stream",
     "text": [
      "[1, 2, 3, 'a', 'b', 'c']\n"
     ]
    }
   ],
   "source": [
    "l1 = [1,2,3]\n",
    "l2 = [\"a\",\"b\",\"c\"]\n",
    "\n",
    "print( l1 + l2)"
   ]
  },
  {
   "cell_type": "markdown",
   "metadata": {},
   "source": [
    "Para recortar listas (*slicing*)"
   ]
  },
  {
   "cell_type": "code",
   "execution_count": 25,
   "metadata": {},
   "outputs": [
    {
     "name": "stdout",
     "output_type": "stream",
     "text": [
      "['Olá', False, 42]\n",
      "[[1, 2, 3], 'Novo']\n",
      "[False, 42, 9.87, [1, 2, 3]]\n"
     ]
    }
   ],
   "source": [
    "# Recorta os três primeiros elementos da lista\n",
    "print( l[:3] )\n",
    "\n",
    "# Recorta os últimos 2 elementos da lista\n",
    "print( l[4:])\n",
    "\n",
    "# Recorta todos entre o segundo e penúltimo elementos\n",
    "print( l[1: 5])"
   ]
  },
  {
   "cell_type": "markdown",
   "metadata": {},
   "source": [
    "E se quiséssemos processar cada um dos elementos da lista? Seria possível percorrê-los programaticamente? Sim, por meio dos loops!"
   ]
  },
  {
   "cell_type": "markdown",
   "metadata": {},
   "source": [
    "### Estruturas de Repetição: Loops"
   ]
  },
  {
   "cell_type": "markdown",
   "metadata": {},
   "source": [
    "**Loops** (em português \"laços de repetição\") são estruturas que garantem que uma parte do código seja repetida múltiplas vezes.  Existem dois tipos fundamentais de loops: (i) ***for* loops** e (ii) ***while* loops**. Pela limitação de tempo, veremos apenas o primeiro tipo neste curso."
   ]
  },
  {
   "cell_type": "markdown",
   "metadata": {},
   "source": [
    "Loops \"*for*\" são muito úteis quando queremos percorrer programaticamente **estruturas iteráveis**, como por exemplo as listas.\n",
    "Sua estrutura é composta por:\n",
    "\n",
    "* uma **variável de iteração** (normalmente chamada `i` ou `j`, mas poderia ser qualquer outro nome);\n",
    "* a **lista** (ou qualquer outra estrutura iterável) contendo os elementos que desejamos percorrer. \n",
    "\n",
    "**Obs:** Chamamos de **iteração** cada \"repetição\" do loop. Ou seja, um loop com 10 iterações será percorrido 10 vezes. "
   ]
  },
  {
   "cell_type": "code",
   "execution_count": 26,
   "metadata": {},
   "outputs": [
    {
     "name": "stdout",
     "output_type": "stream",
     "text": [
      "Nova iteração: 1\n",
      "Nova iteração: 2\n",
      "Nova iteração: 3\n",
      "Nova iteração: 4\n",
      "Nova iteração: 5\n",
      "Nova iteração: 6\n",
      "Nova iteração: 7\n",
      "Nova iteração: 8\n",
      "Nova iteração: 9\n",
      "Nova iteração: 10\n"
     ]
    }
   ],
   "source": [
    "l = [1,2,3,4,5,6,7,8,9,10] # cria uma lista com 10 elementos\n",
    "\n",
    "# percorre os 10 elementos \n",
    "# obs: em cada iteração, o elemento da vez é referenciado pela variável i\n",
    "for i in l:\n",
    "    print(\"Nova iteração:\", i)"
   ]
  },
  {
   "cell_type": "markdown",
   "metadata": {},
   "source": [
    "A função `range` gera uma sequência de números, que pode ser percorrida num loop ou transformada em uma lista se passada como argumento para a função `list`"
   ]
  },
  {
   "cell_type": "code",
   "execution_count": 27,
   "metadata": {},
   "outputs": [
    {
     "name": "stdout",
     "output_type": "stream",
     "text": [
      "Nova iteração: 0\n",
      "Nova iteração: 1\n",
      "Nova iteração: 2\n",
      "Nova iteração: 3\n",
      "Nova iteração: 4\n",
      "Nova iteração: 5\n",
      "Nova iteração: 6\n",
      "Nova iteração: 7\n",
      "Nova iteração: 8\n",
      "Nova iteração: 9\n",
      "Nova iteração: 10\n",
      "Nova iteração: 11\n",
      "Nova iteração: 12\n",
      "Nova iteração: 13\n",
      "Nova iteração: 14\n",
      "Nova iteração: 15\n",
      "Nova iteração: 16\n",
      "Nova iteração: 17\n",
      "Nova iteração: 18\n",
      "Nova iteração: 19\n"
     ]
    }
   ],
   "source": [
    "for i in range(20):\n",
    "    print(\"Nova iteração:\", i)"
   ]
  },
  {
   "cell_type": "markdown",
   "metadata": {},
   "source": [
    "**Loops aninhados**: Podemos construir loops dentro de loops! Neste caso precisamos usar duas variáveis de iteração distintas."
   ]
  },
  {
   "cell_type": "code",
   "execution_count": 28,
   "metadata": {},
   "outputs": [
    {
     "name": "stdout",
     "output_type": "stream",
     "text": [
      "Nova iteração de fora: a\n",
      "    Nova iteração de dentro: 1\n",
      "    Nova iteração de dentro: 2\n",
      "    Nova iteração de dentro: 3\n",
      "    Nova iteração de dentro: 4\n",
      "Nova iteração de fora: b\n",
      "    Nova iteração de dentro: 1\n",
      "    Nova iteração de dentro: 2\n",
      "    Nova iteração de dentro: 3\n",
      "    Nova iteração de dentro: 4\n",
      "Nova iteração de fora: c\n",
      "    Nova iteração de dentro: 1\n",
      "    Nova iteração de dentro: 2\n",
      "    Nova iteração de dentro: 3\n",
      "    Nova iteração de dentro: 4\n",
      "Nova iteração de fora: d\n",
      "    Nova iteração de dentro: 1\n",
      "    Nova iteração de dentro: 2\n",
      "    Nova iteração de dentro: 3\n",
      "    Nova iteração de dentro: 4\n"
     ]
    }
   ],
   "source": [
    "lista_fora = [\"a\",\"b\",\"c\",\"d\"]\n",
    "lista_dentro = [1,2,3,4]\n",
    "\n",
    "for i in lista_fora:\n",
    "    print(\"Nova iteração de fora:\",i)\n",
    "    for j in lista_dentro:\n",
    "        print(\"    Nova iteração de dentro:\",j)"
   ]
  },
  {
   "cell_type": "markdown",
   "metadata": {},
   "source": [
    "### Voltando ao projeto...<a class=\"tocSkip\"></a>"
   ]
  },
  {
   "cell_type": "markdown",
   "metadata": {},
   "source": [
    "Agora que já sabemos **iterar** (navegar) a lista de diretórios que representam as câmeras, vamos imprimir seus nomes no console."
   ]
  },
  {
   "cell_type": "code",
   "execution_count": 29,
   "metadata": {},
   "outputs": [
    {
     "name": "stdout",
     "output_type": "stream",
     "text": [
      "Câmera cam001\n",
      "Câmera cam002\n",
      "Câmera cam003\n",
      "Câmera cam004\n",
      "Câmera cam005\n",
      "Câmera cam006\n",
      "Câmera cam007\n",
      "Câmera cam008\n",
      "Câmera cam009\n",
      "Câmera cam010\n",
      "Câmera cam011\n",
      "Câmera cam012\n",
      "Câmera cam013\n",
      "Câmera cam014\n",
      "Câmera cam015\n",
      "Câmera cam016\n",
      "Câmera cam017\n",
      "Câmera cam018\n",
      "Câmera cam019\n",
      "Câmera cam020\n",
      "Câmera cam021\n",
      "Câmera cam022\n",
      "Câmera cam023\n",
      "Câmera cam024\n",
      "Câmera cam025\n",
      "Câmera cam026\n",
      "Câmera cam027\n",
      "Câmera cam028\n",
      "Câmera cam029\n",
      "Câmera cam030\n",
      "Câmera cam031\n",
      "Câmera cam032\n",
      "Câmera cam033\n",
      "Câmera cam034\n",
      "Câmera cam035\n",
      "Câmera cam036\n",
      "Câmera cam037\n",
      "Câmera cam038\n",
      "Câmera cam039\n",
      "Câmera cam040\n",
      "Câmera cam041\n",
      "Câmera cam042\n",
      "Câmera cam043\n",
      "Câmera cam044\n",
      "Câmera cam045\n",
      "Câmera cam046\n",
      "Câmera cam047\n",
      "Câmera cam048\n",
      "Câmera cam049\n",
      "Câmera cam050\n",
      "Câmera cam051\n",
      "Câmera cam052\n",
      "Câmera cam053\n",
      "Câmera cam054\n",
      "Câmera cam055\n",
      "Câmera cam056\n",
      "Câmera cam057\n",
      "Câmera cam058\n",
      "Câmera cam059\n",
      "Câmera cam060\n",
      "Câmera cam061\n",
      "Câmera cam062\n",
      "Câmera cam063\n",
      "Câmera cam064\n",
      "Câmera cam065\n",
      "Câmera cam066\n",
      "Câmera cam067\n",
      "Câmera cam068\n",
      "Câmera cam069\n",
      "Câmera cam070\n",
      "Câmera cam071\n",
      "Câmera cam072\n",
      "Câmera cam073\n",
      "Câmera cam074\n",
      "Câmera cam075\n",
      "Câmera cam076\n",
      "Câmera cam077\n",
      "Câmera cam078\n",
      "Câmera cam079\n",
      "Câmera cam080\n",
      "Câmera cam081\n",
      "Câmera cam082\n",
      "Câmera cam083\n",
      "Câmera cam084\n",
      "Câmera cam085\n",
      "Câmera cam086\n",
      "Câmera cam087\n",
      "Câmera cam088\n",
      "Câmera cam089\n",
      "Câmera cam090\n",
      "Câmera cam091\n",
      "Câmera cam092\n",
      "Câmera cam093\n",
      "Câmera cam094\n",
      "Câmera cam095\n",
      "Câmera cam096\n",
      "Câmera cam097\n",
      "Câmera cam098\n",
      "Câmera cam099\n",
      "Câmera cam100\n"
     ]
    }
   ],
   "source": [
    "for cam in os.listdir('./data/ctraps/'):\n",
    "    print(\"Câmera\",cam)"
   ]
  },
  {
   "cell_type": "markdown",
   "metadata": {},
   "source": [
    "E se quiséssemos extrair a parte numérica do nome de cada câmera? Vamos tentar?"
   ]
  },
  {
   "cell_type": "markdown",
   "metadata": {},
   "source": [
    "Vamos criar nossa primeira função, chamada `numeroCamera`. Ela deverá receber como entrada o nome da câmera (será do tipo *string*), extrair e retornar a parte numérica do nome como um número inteiro (tipo *int*).\n",
    "**Obs**: Vamos guardar esta função pois ela será utilizada mais tarde!"
   ]
  },
  {
   "cell_type": "code",
   "execution_count": 30,
   "metadata": {},
   "outputs": [],
   "source": [
    "def numeroCamera(nomeCamera):\n",
    "    '''Retorna a parte numérica (inteiro) do nome da câmera'''\n",
    "    parte_inteira = int( nomeCamera[3:] )\n",
    "    return parte_inteira"
   ]
  },
  {
   "cell_type": "code",
   "execution_count": 31,
   "metadata": {},
   "outputs": [
    {
     "name": "stdout",
     "output_type": "stream",
     "text": [
      "Câmera 1\n",
      "Câmera 2\n",
      "Câmera 3\n",
      "Câmera 4\n",
      "Câmera 5\n",
      "Câmera 6\n",
      "Câmera 7\n",
      "Câmera 8\n",
      "Câmera 9\n",
      "Câmera 10\n",
      "Câmera 11\n",
      "Câmera 12\n",
      "Câmera 13\n",
      "Câmera 14\n",
      "Câmera 15\n",
      "Câmera 16\n",
      "Câmera 17\n",
      "Câmera 18\n",
      "Câmera 19\n",
      "Câmera 20\n",
      "Câmera 21\n",
      "Câmera 22\n",
      "Câmera 23\n",
      "Câmera 24\n",
      "Câmera 25\n",
      "Câmera 26\n",
      "Câmera 27\n",
      "Câmera 28\n",
      "Câmera 29\n",
      "Câmera 30\n",
      "Câmera 31\n",
      "Câmera 32\n",
      "Câmera 33\n",
      "Câmera 34\n",
      "Câmera 35\n",
      "Câmera 36\n",
      "Câmera 37\n",
      "Câmera 38\n",
      "Câmera 39\n",
      "Câmera 40\n",
      "Câmera 41\n",
      "Câmera 42\n",
      "Câmera 43\n",
      "Câmera 44\n",
      "Câmera 45\n",
      "Câmera 46\n",
      "Câmera 47\n",
      "Câmera 48\n",
      "Câmera 49\n",
      "Câmera 50\n",
      "Câmera 51\n",
      "Câmera 52\n",
      "Câmera 53\n",
      "Câmera 54\n",
      "Câmera 55\n",
      "Câmera 56\n",
      "Câmera 57\n",
      "Câmera 58\n",
      "Câmera 59\n",
      "Câmera 60\n",
      "Câmera 61\n",
      "Câmera 62\n",
      "Câmera 63\n",
      "Câmera 64\n",
      "Câmera 65\n",
      "Câmera 66\n",
      "Câmera 67\n",
      "Câmera 68\n",
      "Câmera 69\n",
      "Câmera 70\n",
      "Câmera 71\n",
      "Câmera 72\n",
      "Câmera 73\n",
      "Câmera 74\n",
      "Câmera 75\n",
      "Câmera 76\n",
      "Câmera 77\n",
      "Câmera 78\n",
      "Câmera 79\n",
      "Câmera 80\n",
      "Câmera 81\n",
      "Câmera 82\n",
      "Câmera 83\n",
      "Câmera 84\n",
      "Câmera 85\n",
      "Câmera 86\n",
      "Câmera 87\n",
      "Câmera 88\n",
      "Câmera 89\n",
      "Câmera 90\n",
      "Câmera 91\n",
      "Câmera 92\n",
      "Câmera 93\n",
      "Câmera 94\n",
      "Câmera 95\n",
      "Câmera 96\n",
      "Câmera 97\n",
      "Câmera 98\n",
      "Câmera 99\n",
      "Câmera 100\n"
     ]
    }
   ],
   "source": [
    "for cam in os.listdir('./data/ctraps/'):\n",
    "    print(\"Câmera\", numeroCamera(cam))"
   ]
  },
  {
   "cell_type": "markdown",
   "metadata": {},
   "source": [
    "E se quisermos listar as **espécies** registradas por cada câmera? Podemos usar um loop dentro de outro (**loop aninhado**)."
   ]
  },
  {
   "cell_type": "code",
   "execution_count": 32,
   "metadata": {
    "scrolled": true
   },
   "outputs": [
    {
     "name": "stdout",
     "output_type": "stream",
     "text": [
      "Câmera 1 :\n",
      "\tCerdocyon thous\n",
      "\tDidelphis albiventris\n",
      "\tDidelphis albiventris\n",
      "\tDidelphis albiventris\n",
      "\tHydrochoerus hydrochaeris\n",
      "\tLycalopex vetulus\n",
      "\tLycalopex vetulus\n",
      "\tCanis familiaris\n",
      "\tMyrmecophaga tridactyla\n",
      "Câmera 2 :\n",
      "\tCariama cristata\n",
      "\tCanis familiaris\n",
      "\tCariama cristata\n",
      "\tCabassous unicinctus\n",
      "\tCerdocyon thous\n",
      "\tDasypus novemcinctus\n",
      "\tHydrochoerus hydrochaeris\n",
      "\tLeopardus wiedii\n",
      "\tMazama americana\n",
      "\tMazama gouazoubira\n",
      "Câmera 3 :\n",
      "\tDidelphis albiventris\n",
      "\tDidelphis albiventris\n",
      "\tCanis familiaris\n",
      "\tCanis familiaris\n",
      "Câmera 4 :\n",
      "\tCerdocyon thous\n",
      "\tLycalopex vetulus\n",
      "\tCanis familiaris\n",
      "\tCanis familiaris\n",
      "\tEira barbara\n",
      "\tEira barbara\n",
      "\tDidelphis albiventris\n",
      "\tDidelphis albiventris\n",
      "\tDidelphis albiventris\n",
      "\tDidelphis albiventris\n",
      "\tDidelphis albiventris\n",
      "\tEuphractus sexcinctus\n",
      "\tHydrochoerus hydrochaeris\n",
      "\tLeopardus pardalis\n",
      "Câmera 5 :\n",
      "\tCerdocyon thous\n",
      "\tCerdocyon thous\n",
      "\tMazama americana\n",
      "\tCanis familiaris\n",
      "Câmera 6 :\n",
      "\tCabassous unicinctus\n",
      "\tCanis familiaris\n",
      "\tCanis familiaris\n",
      "\tCanis familiaris\n",
      "\tCanis familiaris\n",
      "\tCanis familiaris\n",
      "\tCanis familiaris\n",
      "\tCerdocyon thous\n",
      "\tCerdocyon thous\n",
      "\tDidelphis albiventris\n",
      "\tDidelphis albiventris\n",
      "\tEuphractus sexcinctus\n",
      "\tLycalopex vetulus\n",
      "\tMazama americana\n",
      "\tPuma yagouaroundi\n",
      "Câmera 7 :\n",
      "\tCariama cristata\n",
      "\tCanis familiaris\n",
      "\tCanis familiaris\n",
      "\tCariama cristata\n",
      "\tDidelphis albiventris\n",
      "\tDidelphis albiventris\n",
      "\tDidelphis albiventris\n",
      "\tHydrochoerus hydrochaeris\n",
      "\tHydrochoerus hydrochaeris\n",
      "\tLeopardus pardalis\n",
      "\tMazama gouazoubira\n",
      "Câmera 8 :\n",
      "\tRhea americana\n",
      "\tSapajus libidinosus\n",
      "\tDidelphis albiventris\n",
      "\tHydrochoerus hydrochaeris\n",
      "\tLeopardus wiedii\n",
      "\tPuma yagouaroundi\n",
      "\tCanis familiaris\n",
      "\tCanis familiaris\n",
      "\tCanis familiaris\n",
      "\tCanis familiaris\n",
      "Câmera 9 :\n",
      "\tCariama cristata\n",
      "\tRhea americana\n",
      "\tDidelphis albiventris\n",
      "\tDidelphis albiventris\n",
      "\tEuphractus sexcinctus\n",
      "\tMazama gouazoubira\n",
      "\tCanis familiaris\n",
      "Câmera 10 :\n",
      "\tCariama cristata\n",
      "\tCerdocyon thous\n",
      "\tChrysocyon brachyurus\n",
      "\tEuphractus sexcinctus\n",
      "\tMazama gouazoubira\n",
      "\tCanis familiaris\n",
      "\tCanis familiaris\n",
      "\tCanis familiaris\n",
      "Câmera 11 :\n",
      "\tCariama cristata\n",
      "\tCanis familiaris\n",
      "\tCanis familiaris\n",
      "\tCariama cristata\n",
      "\tCariama cristata\n",
      "\tDidelphis albiventris\n",
      "\tHydrochoerus hydrochaeris\n",
      "\tHydrochoerus hydrochaeris\n",
      "\tMazama americana\n",
      "\tCanis familiaris\n",
      "\tCanis familiaris\n",
      "Câmera 12 :\n",
      "\tCariama cristata\n",
      "\tCerdocyon thous\n",
      "\tDasypus novemcinctus\n",
      "\tDidelphis albiventris\n",
      "\tDidelphis albiventris\n",
      "\tHydrochoerus hydrochaeris\n",
      "\tLeopardus pardalis\n",
      "\tSapajus libidinosus\n",
      "\tMyrmecophaga tridactyla\n",
      "Câmera 13 :\n",
      "\tCanis familiaris\n",
      "\tCanis familiaris\n",
      "\tCanis familiaris\n",
      "\tCanis familiaris\n",
      "Câmera 14 :\n",
      "\tCariama cristata\n",
      "\tMazama gouazoubira\n",
      "\tCabassous unicinctus\n",
      "\tDasypus novemcinctus\n",
      "\tDidelphis albiventris\n",
      "\tDidelphis albiventris\n",
      "\tDidelphis albiventris\n",
      "\tHydrochoerus hydrochaeris\n",
      "\tLeopardus pardalis\n",
      "\tMazama americana\n",
      "Câmera 15 :\n",
      "\tCariama cristata\n",
      "\tCanis familiaris\n",
      "\tSapajus libidinosus\n",
      "\tCerdocyon thous\n",
      "\tDasypus novemcinctus\n",
      "\tDidelphis albiventris\n",
      "\tDidelphis albiventris\n",
      "\tHydrochoerus hydrochaeris\n",
      "\tMazama americana\n",
      "\tMazama gouazoubira\n",
      "\tPuma concolor\n",
      "Câmera 16 :\n",
      "\tCerdocyon thous\n",
      "\tCerdocyon thous\n",
      "\tDidelphis albiventris\n",
      "\tDidelphis albiventris\n",
      "\tDidelphis albiventris\n",
      "\tEuphractus sexcinctus\n",
      "\tPuma yagouaroundi\n",
      "\tCanis familiaris\n",
      "Câmera 17 :\n",
      "\tCariama cristata\n",
      "\tDasypus novemcinctus\n",
      "\tDidelphis albiventris\n",
      "\tLycalopex vetulus\n",
      "\tCanis familiaris\n",
      "\tCanis familiaris\n",
      "Câmera 18 :\n",
      "\tCerdocyon thous\n",
      "\tSapajus libidinosus\n",
      "\tDidelphis albiventris\n",
      "\tEuphractus sexcinctus\n",
      "\tMazama americana\n",
      "\tPuma yagouaroundi\n",
      "\tCanis familiaris\n",
      "\tCanis familiaris\n",
      "\tCanis familiaris\n",
      "\tCanis familiaris\n",
      "Câmera 19 :\n",
      "\tCerdocyon thous\n",
      "\tEira barbara\n",
      "\tDidelphis albiventris\n",
      "\tDidelphis albiventris\n",
      "\tEuphractus sexcinctus\n",
      "\tHydrochoerus hydrochaeris\n",
      "\tLeopardus pardalis\n",
      "\tMazama americana\n",
      "\tCanis familiaris\n",
      "\tCanis familiaris\n",
      "Câmera 20 :\n",
      "\tCariama cristata\n",
      "\tCerdocyon thous\n",
      "\tLeopardus wiedii\n",
      "\tLycalopex vetulus\n",
      "\tMazama gouazoubira\n",
      "\tPuma concolor\n",
      "\tPuma concolor\n",
      "\tCanis familiaris\n",
      "\tCanis familiaris\n",
      "Câmera 21 :\n",
      "\tCariama cristata\n",
      "\tCanis familiaris\n",
      "\tCanis familiaris\n",
      "\tEira barbara\n",
      "\tDidelphis albiventris\n",
      "\tDidelphis albiventris\n",
      "\tHydrochoerus hydrochaeris\n",
      "\tHydrochoerus hydrochaeris\n",
      "\tLeopardus pardalis\n",
      "\tPuma yagouaroundi\n",
      "\tCanis familiaris\n",
      "\tCanis familiaris\n",
      "Câmera 22 :\n",
      "\tCabassous unicinctus\n",
      "\tCerdocyon thous\n",
      "\tCerdocyon thous\n",
      "\tDasypus novemcinctus\n",
      "\tDidelphis albiventris\n",
      "\tHydrochoerus hydrochaeris\n",
      "\tHydrochoerus hydrochaeris\n",
      "\tCanis familiaris\n",
      "Câmera 23 :\n",
      "\tCerdocyon thous\n",
      "\tDidelphis albiventris\n",
      "\tEuphractus sexcinctus\n",
      "\tLycalopex vetulus\n",
      "\tMazama gouazoubira\n",
      "\tPuma yagouaroundi\n",
      "\tCanis familiaris\n",
      "\tCanis familiaris\n",
      "\tMyrmecophaga tridactyla\n",
      "Câmera 24 :\n",
      "\tCariama cristata\n",
      "\tCanis familiaris\n",
      "\tCanis familiaris\n",
      "\tCanis familiaris\n",
      "\tEira barbara\n",
      "\tRhea americana\n",
      "\tChrysocyon brachyurus\n",
      "\tDidelphis albiventris\n",
      "\tHydrochoerus hydrochaeris\n",
      "\tHydrochoerus hydrochaeris\n",
      "\tHydrochoerus hydrochaeris\n",
      "\tMazama americana\n",
      "\tMazama americana\n",
      "Câmera 25 :\n",
      "\tCabassous unicinctus\n",
      "\tCerdocyon thous\n",
      "\tCerdocyon thous\n",
      "\tCerdocyon thous\n",
      "\tDidelphis albiventris\n",
      "\tCanis familiaris\n",
      "\tCanis familiaris\n",
      "\tEira barbara\n",
      "Câmera 26 :\n",
      "\tCariama cristata\n",
      "\tMazama americana\n",
      "\tCanis familiaris\n",
      "\tCanis familiaris\n",
      "\tCanis familiaris\n",
      "\tCanis familiaris\n",
      "\tCariama cristata\n",
      "\tEuphractus sexcinctus\n",
      "\tEuphractus sexcinctus\n",
      "\tEuphractus sexcinctus\n",
      "\tHydrochoerus hydrochaeris\n",
      "\tLycalopex vetulus\n",
      "\tLycalopex vetulus\n",
      "\tMazama americana\n",
      "Câmera 27 :\n",
      "\tCerdocyon thous\n",
      "\tCerdocyon thous\n",
      "\tDidelphis albiventris\n",
      "\tEuphractus sexcinctus\n",
      "\tHydrochoerus hydrochaeris\n",
      "\tPuma concolor\n",
      "\tCanis familiaris\n",
      "Câmera 28 :\n",
      "\tCariama cristata\n",
      "\tHydrochoerus hydrochaeris\n",
      "\tLeopardus pardalis\n",
      "\tCanis familiaris\n",
      "\tCanis familiaris\n",
      "\tEira barbara\n",
      "\tEira barbara\n",
      "Câmera 29 :\n",
      "\tDidelphis albiventris\n",
      "\tEuphractus sexcinctus\n",
      "\tHydrochoerus hydrochaeris\n",
      "\tHydrochoerus hydrochaeris\n",
      "\tMazama americana\n",
      "\tEira barbara\n",
      "Câmera 30 :\n",
      "\tCerdocyon thous\n",
      "\tMazama americana\n",
      "\tCanis familiaris\n",
      "\tCanis familiaris\n",
      "\tEira barbara\n",
      "\tSapajus libidinosus\n",
      "\tCerdocyon thous\n",
      "\tDidelphis albiventris\n",
      "\tEuphractus sexcinctus\n",
      "\tEuphractus sexcinctus\n",
      "\tHydrochoerus hydrochaeris\n",
      "\tLeopardus pardalis\n",
      "\tLeopardus pardalis\n",
      "\tLeopardus wiedii\n",
      "Câmera 31 :\n",
      "\tCariama cristata\n",
      "\tCerdocyon thous\n",
      "\tDidelphis albiventris\n",
      "\tDidelphis albiventris\n",
      "\tEuphractus sexcinctus\n",
      "\tHydrochoerus hydrochaeris\n",
      "\tEira barbara\n",
      "Câmera 32 :\n",
      "\tCabassous unicinctus\n",
      "\tCerdocyon thous\n",
      "\tDidelphis albiventris\n",
      "\tCanis familiaris\n",
      "\tCanis familiaris\n",
      "\tEira barbara\n",
      "Câmera 33 :\n",
      "\tCariama cristata\n",
      "\tDidelphis albiventris\n",
      "\tDidelphis albiventris\n",
      "\tEuphractus sexcinctus\n",
      "\tMazama americana\n",
      "\tPuma concolor\n",
      "\tCanis familiaris\n",
      "Câmera 34 :\n",
      "\tCariama cristata\n",
      "\tCerdocyon thous\n",
      "\tDidelphis albiventris\n",
      "\tLeopardus pardalis\n",
      "\tLeopardus wiedii\n",
      "\tPuma yagouaroundi\n",
      "\tCanis familiaris\n",
      "\tCanis familiaris\n",
      "Câmera 35 :\n",
      "\tCariama cristata\n",
      "\tCanis familiaris\n",
      "\tChrysocyon brachyurus\n",
      "\tDidelphis albiventris\n",
      "\tDidelphis albiventris\n",
      "\tHydrochoerus hydrochaeris\n",
      "\tHydrochoerus hydrochaeris\n",
      "\tPuma concolor\n",
      "\tCanis familiaris\n",
      "\tCanis familiaris\n",
      "Câmera 36 :\n",
      "\tCariama cristata\n",
      "\tCanis familiaris\n",
      "\tEira barbara\n",
      "\tCariama cristata\n",
      "\tCerdocyon thous\n",
      "\tDidelphis albiventris\n",
      "\tLeopardus pardalis\n",
      "\tMazama americana\n",
      "\tMazama americana\n",
      "\tPuma yagouaroundi\n",
      "\tCanis familiaris\n",
      "Câmera 37 :\n",
      "\tCariama cristata\n",
      "\tCariama cristata\n",
      "\tDidelphis albiventris\n",
      "\tDidelphis albiventris\n",
      "\tDidelphis albiventris\n",
      "\tHydrochoerus hydrochaeris\n",
      "\tCanis familiaris\n",
      "\tCanis familiaris\n",
      "Câmera 38 :\n",
      "\tCariama cristata\n",
      "\tCerdocyon thous\n",
      "\tDasypus novemcinctus\n",
      "\tDidelphis albiventris\n",
      "\tDidelphis albiventris\n",
      "\tHydrochoerus hydrochaeris\n",
      "\tPuma concolor\n",
      "\tCanis familiaris\n",
      "\tCanis familiaris\n",
      "Câmera 39 :\n",
      "\tCariama cristata\n",
      "\tDidelphis albiventris\n",
      "\tDidelphis albiventris\n",
      "\tDidelphis albiventris\n",
      "\tDidelphis albiventris\n",
      "\tMazama americana\n",
      "\tPuma yagouaroundi\n",
      "\tCanis familiaris\n",
      "\tEira barbara\n",
      "Câmera 40 :\n",
      "\tCariama cristata\n",
      "\tCerdocyon thous\n",
      "\tDidelphis albiventris\n",
      "\tPuma yagouaroundi\n",
      "\tCanis familiaris\n",
      "\tTapirus terrestris\n",
      "Câmera 41 :\n",
      "\tCariama cristata\n",
      "\tCerdocyon thous\n",
      "\tChrysocyon brachyurus\n",
      "\tDidelphis albiventris\n",
      "\tHydrochoerus hydrochaeris\n",
      "\tLeopardus pardalis\n",
      "\tCanis familiaris\n",
      "\tCanis familiaris\n",
      "Câmera 42 :\n",
      "\tDidelphis albiventris\n",
      "\tEuphractus sexcinctus\n",
      "\tLycalopex vetulus\n",
      "\tMazama gouazoubira\n",
      "\tPanthera onca\n",
      "\tCanis familiaris\n",
      "\tCanis familiaris\n",
      "Câmera 43 :\n",
      "\tCerdocyon thous\n",
      "\tPuma concolor\n",
      "\tCanis familiaris\n",
      "\tCanis familiaris\n",
      "\tCanis familiaris\n",
      "\tCanis familiaris\n",
      "\tSapajus libidinosus\n",
      "\tDasypus novemcinctus\n",
      "\tDidelphis albiventris\n",
      "\tDidelphis albiventris\n",
      "\tHydrochoerus hydrochaeris\n",
      "\tHydrochoerus hydrochaeris\n",
      "\tLeopardus pardalis\n",
      "\tLycalopex vetulus\n",
      "\tMazama gouazoubira\n",
      "Câmera 44 :\n"
     ]
    },
    {
     "name": "stdout",
     "output_type": "stream",
     "text": [
      "\tDidelphis albiventris\n",
      "\tEuphractus sexcinctus\n",
      "\tCanis familiaris\n",
      "\tEira barbara\n",
      "Câmera 45 :\n",
      "\tDidelphis albiventris\n",
      "\tDidelphis albiventris\n",
      "\tEuphractus sexcinctus\n",
      "\tEuphractus sexcinctus\n",
      "\tCanis familiaris\n",
      "\tCanis familiaris\n",
      "Câmera 46 :\n",
      "\tMazama americana\n",
      "\tMazama americana\n",
      "\tPuma concolor\n",
      "\tCanis familiaris\n",
      "\tCanis familiaris\n",
      "\tCanis familiaris\n",
      "\tEira barbara\n",
      "Câmera 47 :\n",
      "\tDidelphis albiventris\n",
      "\tHydrochoerus hydrochaeris\n",
      "\tHydrochoerus hydrochaeris\n",
      "\tLeopardus pardalis\n",
      "\tMazama gouazoubira\n",
      "\tPuma concolor\n",
      "\tEira barbara\n",
      "Câmera 48 :\n",
      "\tCariama cristata\n",
      "\tEira barbara\n",
      "\tCerdocyon thous\n",
      "\tChrysocyon brachyurus\n",
      "\tDidelphis albiventris\n",
      "\tMazama gouazoubira\n",
      "\tCanis familiaris\n",
      "\tCanis familiaris\n",
      "\tEira barbara\n",
      "\tEira barbara\n",
      "Câmera 49 :\n",
      "\tCerdocyon thous\n",
      "\tDidelphis albiventris\n",
      "\tLeopardus pardalis\n",
      "\tMazama americana\n",
      "\tMazama americana\n",
      "\tTapirus terrestris\n",
      "Câmera 50 :\n",
      "\tCariama cristata\n",
      "\tDidelphis albiventris\n",
      "\tDidelphis albiventris\n",
      "\tHydrochoerus hydrochaeris\n",
      "\tCanis familiaris\n",
      "\tCanis familiaris\n",
      "\tTapirus terrestris\n",
      "Câmera 51 :\n",
      "\tCariama cristata\n",
      "\tCanis familiaris\n",
      "\tHydrochoerus hydrochaeris\n",
      "\tMazama americana\n",
      "\tMazama americana\n",
      "\tCanis familiaris\n",
      "\tCanis familiaris\n",
      "\tCanis familiaris\n",
      "\tCanis familiaris\n",
      "\tCanis familiaris\n",
      "Câmera 52 :\n",
      "\tCariama cristata\n",
      "\tCariama cristata\n",
      "\tCariama cristata\n",
      "\tCerdocyon thous\n",
      "\tChrysocyon brachyurus\n",
      "\tPanthera onca\n",
      "\tCanis familiaris\n",
      "\tCanis familiaris\n",
      "Câmera 53 :\n",
      "\tCerdocyon thous\n",
      "\tEira barbara\n",
      "\tEira barbara\n",
      "\tDidelphis albiventris\n",
      "\tDidelphis albiventris\n",
      "\tDidelphis albiventris\n",
      "\tDidelphis albiventris\n",
      "\tEuphractus sexcinctus\n",
      "\tLycalopex vetulus\n",
      "\tPanthera onca\n",
      "\tCanis familiaris\n",
      "Câmera 54 :\n",
      "\tCariama cristata\n",
      "\tCanis familiaris\n",
      "\tCanis familiaris\n",
      "\tSapajus libidinosus\n",
      "\tCabassous unicinctus\n",
      "\tDidelphis albiventris\n",
      "\tDidelphis albiventris\n",
      "\tHydrochoerus hydrochaeris\n",
      "\tHydrochoerus hydrochaeris\n",
      "\tMazama americana\n",
      "\tCanis familiaris\n",
      "\tCanis familiaris\n",
      "Câmera 55 :\n",
      "\tDidelphis albiventris\n",
      "\tCanis familiaris\n",
      "\tDidelphis albiventris\n",
      "\tLeopardus pardalis\n",
      "\tLeopardus wiedii\n",
      "\tMazama americana\n",
      "\tMazama gouazoubira\n",
      "\tCanis familiaris\n",
      "\tCanis familiaris\n",
      "\tCanis familiaris\n",
      "Câmera 56 :\n",
      "\tCariama cristata\n",
      "\tDidelphis albiventris\n",
      "\tDidelphis albiventris\n",
      "\tDidelphis albiventris\n",
      "\tDidelphis albiventris\n",
      "\tCanis familiaris\n",
      "\tCanis familiaris\n",
      "\tCanis familiaris\n",
      "\tEira barbara\n",
      "Câmera 57 :\n",
      "\tCariama cristata\n",
      "\tCanis familiaris\n",
      "\tEira barbara\n",
      "\tEira barbara\n",
      "\tDidelphis albiventris\n",
      "\tDidelphis albiventris\n",
      "\tDidelphis albiventris\n",
      "\tDidelphis albiventris\n",
      "\tHydrochoerus hydrochaeris\n",
      "\tLycalopex vetulus\n",
      "\tCanis familiaris\n",
      "\tCanis familiaris\n",
      "Câmera 58 :\n",
      "\tCariama cristata\n",
      "\tCanis familiaris\n",
      "\tCanis familiaris\n",
      "\tSapajus libidinosus\n",
      "\tTapirus terrestris\n",
      "\tCerdocyon thous\n",
      "\tCerdocyon thous\n",
      "\tChrysocyon brachyurus\n",
      "\tDidelphis albiventris\n",
      "\tDidelphis albiventris\n",
      "\tHydrochoerus hydrochaeris\n",
      "\tPuma concolor\n",
      "\tCanis familiaris\n",
      "Câmera 59 :\n",
      "\tDidelphis albiventris\n",
      "\tEuphractus sexcinctus\n",
      "\tHydrochoerus hydrochaeris\n",
      "\tLeopardus pardalis\n",
      "\tSapajus libidinosus\n",
      "\tTapirus terrestris\n",
      "Câmera 60 :\n",
      "\tCerdocyon thous\n",
      "\tSapajus libidinosus\n",
      "\tCerdocyon thous\n",
      "\tChrysocyon brachyurus\n",
      "\tDidelphis albiventris\n",
      "\tDidelphis albiventris\n",
      "\tMazama americana\n",
      "\tCanis familiaris\n",
      "\tCanis familiaris\n",
      "\tCanis familiaris\n",
      "Câmera 61 :\n",
      "\tCerdocyon thous\n",
      "\tCerdocyon thous\n",
      "\tDidelphis albiventris\n",
      "\tDidelphis albiventris\n",
      "\tMazama americana\n",
      "\tPuma yagouaroundi\n",
      "\tCanis familiaris\n",
      "\tCanis familiaris\n",
      "\tEira barbara\n",
      "Câmera 62 :\n",
      "\tMazama americana\n",
      "\tPuma concolor\n",
      "\tCanis familiaris\n",
      "\tCanis familiaris\n",
      "\tCanis familiaris\n",
      "Câmera 63 :\n",
      "\tDasypus novemcinctus\n",
      "\tDidelphis albiventris\n",
      "\tDidelphis albiventris\n",
      "\tCanis familiaris\n",
      "\tEira barbara\n",
      "\tSapajus libidinosus\n",
      "Câmera 64 :\n",
      "\tCariama cristata\n",
      "\tPanthera onca\n",
      "\tCanis familiaris\n",
      "\tCanis familiaris\n",
      "\tCariama cristata\n",
      "\tCerdocyon thous\n",
      "\tDasypus novemcinctus\n",
      "\tDasypus novemcinctus\n",
      "\tDidelphis albiventris\n",
      "\tDidelphis albiventris\n",
      "\tMazama americana\n",
      "\tMazama gouazoubira\n",
      "Câmera 65 :\n",
      "\tCariama cristata\n",
      "\tCanis familiaris\n",
      "\tEira barbara\n",
      "\tDidelphis albiventris\n",
      "\tDidelphis albiventris\n",
      "\tEuphractus sexcinctus\n",
      "\tHydrochoerus hydrochaeris\n",
      "\tHydrochoerus hydrochaeris\n",
      "\tLeopardus pardalis\n",
      "\tCanis familiaris\n",
      "\tCanis familiaris\n",
      "Câmera 66 :\n",
      "\tCariama cristata\n",
      "\tCanis familiaris\n",
      "\tCariama cristata\n",
      "\tCerdocyon thous\n",
      "\tEuphractus sexcinctus\n",
      "\tHydrochoerus hydrochaeris\n",
      "\tCanis familiaris\n",
      "\tCanis familiaris\n",
      "\tCanis familiaris\n",
      "\tCanis familiaris\n",
      "Câmera 67 :\n",
      "\tCariama cristata\n",
      "\tCanis familiaris\n",
      "\tCanis familiaris\n",
      "\tCanis familiaris\n",
      "\tCanis familiaris\n",
      "\tSapajus libidinosus\n",
      "\tCerdocyon thous\n",
      "\tCerdocyon thous\n",
      "\tDidelphis albiventris\n",
      "\tDidelphis albiventris\n",
      "\tDidelphis albiventris\n",
      "\tDidelphis albiventris\n",
      "\tEuphractus sexcinctus\n",
      "\tHydrochoerus hydrochaeris\n",
      "Câmera 68 :\n",
      "\tDidelphis albiventris\n",
      "\tDidelphis albiventris\n",
      "\tHydrochoerus hydrochaeris\n",
      "\tMazama gouazoubira\n",
      "\tCanis familiaris\n",
      "\tTapirus terrestris\n",
      "Câmera 69 :\n",
      "\tCariama cristata\n",
      "\tCerdocyon thous\n",
      "\tDasypus novemcinctus\n",
      "\tEuphractus sexcinctus\n",
      "\tEuphractus sexcinctus\n",
      "\tEuphractus sexcinctus\n",
      "\tHydrochoerus hydrochaeris\n",
      "\tLycalopex vetulus\n",
      "\tLycalopex vetulus\n",
      "Câmera 70 :\n",
      "\tDidelphis albiventris\n",
      "\tDidelphis albiventris\n",
      "\tHydrochoerus hydrochaeris\n",
      "\tMazama americana\n",
      "\tCanis familiaris\n",
      "\tEira barbara\n",
      "\tTapirus terrestris\n",
      "Câmera 71 :\n",
      "\tChrysocyon brachyurus\n",
      "\tDidelphis albiventris\n",
      "\tMazama americana\n",
      "\tCanis familiaris\n",
      "\tCanis familiaris\n",
      "Câmera 72 :\n",
      "\tDidelphis albiventris\n",
      "\tDidelphis albiventris\n",
      "\tDidelphis albiventris\n",
      "\tDidelphis albiventris\n",
      "\tDidelphis albiventris\n",
      "\tCanis familiaris\n",
      "Câmera 73 :\n",
      "\tCariama cristata\n",
      "\tCanis familiaris\n",
      "\tCariama cristata\n",
      "\tCariama cristata\n",
      "\tRhea americana\n",
      "\tCerdocyon thous\n",
      "\tHydrochoerus hydrochaeris\n",
      "\tMazama americana\n",
      "\tCanis familiaris\n",
      "\tCanis familiaris\n",
      "Câmera 74 :\n",
      "\tCariama cristata\n",
      "\tCanis familiaris\n",
      "\tCanis familiaris\n",
      "\tEira barbara\n",
      "\tCabassous unicinctus\n",
      "\tCabassous unicinctus\n",
      "\tCerdocyon thous\n",
      "\tCerdocyon thous\n",
      "\tChrysocyon brachyurus\n",
      "\tDidelphis albiventris\n",
      "\tHydrochoerus hydrochaeris\n",
      "\tHydrochoerus hydrochaeris\n",
      "Câmera 75 :\n",
      "\tCariama cristata\n",
      "\tCariama cristata\n",
      "\tCerdocyon thous\n",
      "\tDidelphis albiventris\n",
      "\tHydrochoerus hydrochaeris\n",
      "\tMazama americana\n",
      "\tCanis familiaris\n",
      "Câmera 76 :\n",
      "\tCerdocyon thous\n",
      "Câmera 77 :\n",
      "\tCabassous unicinctus\n",
      "\tCanis familiaris\n",
      "\tCanis familiaris\n",
      "\tCanis familiaris\n",
      "\tDasypus novemcinctus\n",
      "\tDidelphis albiventris\n",
      "\tDidelphis albiventris\n",
      "\tHydrochoerus hydrochaeris\n",
      "\tLeopardus pardalis\n",
      "\tMazama gouazoubira\n",
      "\tMazama gouazoubira\n",
      "\tPuma yagouaroundi\n",
      "Câmera 78 :\n",
      "\tCariama cristata\n",
      "\tLycalopex vetulus\n",
      "\tPuma concolor\n",
      "\tCanis familiaris\n",
      "\tCanis familiaris\n",
      "\tCanis familiaris\n",
      "\tEira barbara\n",
      "\tDasypus novemcinctus\n",
      "\tDidelphis albiventris\n",
      "\tDidelphis albiventris\n",
      "\tEuphractus sexcinctus\n",
      "\tHydrochoerus hydrochaeris\n",
      "\tHydrochoerus hydrochaeris\n",
      "\tLeopardus pardalis\n",
      "\tLeopardus wiedii\n",
      "Câmera 79 :\n",
      "\tCariama cristata\n",
      "\tRhea americana\n",
      "\tCerdocyon thous\n",
      "\tLeopardus pardalis\n",
      "\tLeopardus wiedii\n",
      "\tCanis familiaris\n",
      "\tCanis familiaris\n",
      "\tCanis familiaris\n",
      "\tCanis familiaris\n",
      "Câmera 80 :\n",
      "\tCerdocyon thous\n",
      "\tEuphractus sexcinctus\n",
      "\tLeopardus pardalis\n",
      "\tLeopardus wiedii\n",
      "\tMazama americana\n",
      "\tMazama gouazoubira\n",
      "\tCanis familiaris\n",
      "\tEira barbara\n",
      "Câmera 81 :\n",
      "\tDasypus novemcinctus\n",
      "\tHydrochoerus hydrochaeris\n",
      "\tLycalopex vetulus\n",
      "\tLycalopex vetulus\n",
      "\tCanis familiaris\n",
      "\tCanis familiaris\n",
      "Câmera 82 :\n",
      "\tDidelphis albiventris\n",
      "\tCanis familiaris\n",
      "\tCanis familiaris\n",
      "\tEira barbara\n",
      "\tMyrmecophaga tridactyla\n",
      "Câmera 83 :\n",
      "\tCariama cristata\n",
      "\tCariama cristata\n",
      "\tCerdocyon thous\n",
      "\tDidelphis albiventris\n",
      "\tDidelphis albiventris\n",
      "\tCanis familiaris\n",
      "Câmera 84 :\n",
      "\tCerdocyon thous\n",
      "\tCanis familiaris\n",
      "\tCanis familiaris\n",
      "\tChrysocyon brachyurus\n",
      "\tDasypus novemcinctus\n",
      "\tDidelphis albiventris\n",
      "\tEuphractus sexcinctus\n",
      "\tHydrochoerus hydrochaeris\n",
      "\tHydrochoerus hydrochaeris\n",
      "\tMazama gouazoubira\n",
      "\tPuma yagouaroundi\n",
      "Câmera 85 :\n",
      "\tCerdocyon thous\n",
      "\tDidelphis albiventris\n",
      "\tDidelphis albiventris\n",
      "\tHydrochoerus hydrochaeris\n",
      "\tPuma concolor\n",
      "\tPuma concolor\n",
      "\tCanis familiaris\n",
      "\tCanis familiaris\n",
      "\tCanis familiaris\n",
      "Câmera 86 :\n",
      "\tCerdocyon thous\n",
      "\tDidelphis albiventris\n",
      "\tEuphractus sexcinctus\n",
      "\tMazama americana\n",
      "\tCanis familiaris\n",
      "\tEira barbara\n",
      "\tEira barbara\n",
      "\tSapajus libidinosus\n",
      "Câmera 87 :\n",
      "\tCariama cristata\n",
      "\tChrysocyon brachyurus\n",
      "\tHydrochoerus hydrochaeris\n",
      "\tLeopardus pardalis\n",
      "\tLeopardus pardalis\n",
      "\tLycalopex vetulus\n",
      "\tCanis familiaris\n",
      "Câmera 88 :\n",
      "\tCariama cristata\n",
      "\tCariama cristata\n",
      "\tCabassous unicinctus\n",
      "\tEuphractus sexcinctus\n",
      "\tLeopardus pardalis\n",
      "\tMazama americana\n",
      "\tMazama gouazoubira\n",
      "\tCanis familiaris\n",
      "Câmera 89 :\n",
      "\tCabassous unicinctus\n",
      "\tCanis familiaris\n",
      "\tCanis familiaris\n",
      "\tEira barbara\n",
      "Câmera 90 :\n",
      "\tCabassous unicinctus\n",
      "\tCanis familiaris\n",
      "\tCerdocyon thous\n",
      "\tEuphractus sexcinctus\n",
      "\tHydrochoerus hydrochaeris\n",
      "\tLeopardus pardalis\n",
      "\tMazama americana\n",
      "\tCanis familiaris\n",
      "\tCanis familiaris\n",
      "\tCanis familiaris\n",
      "Câmera 91 :\n",
      "\tCabassous unicinctus\n",
      "\tEira barbara\n",
      "\tEira barbara\n",
      "\tMyrmecophaga tridactyla\n",
      "\tChrysocyon brachyurus\n",
      "\tDidelphis albiventris\n",
      "\tHydrochoerus hydrochaeris\n",
      "\tLycalopex vetulus\n",
      "\tMazama americana\n",
      "\tCanis familiaris\n",
      "\tCanis familiaris\n",
      "\tCanis familiaris\n",
      "Câmera 92 :\n",
      "\tCariama cristata\n"
     ]
    },
    {
     "name": "stdout",
     "output_type": "stream",
     "text": [
      "\tCerdocyon thous\n",
      "\tCerdocyon thous\n",
      "\tHydrochoerus hydrochaeris\n",
      "\tMazama americana\n",
      "\tPuma concolor\n",
      "\tCanis familiaris\n",
      "Câmera 93 :\n",
      "\tCariama cristata\n",
      "\tCabassous unicinctus\n",
      "\tDidelphis albiventris\n",
      "\tDidelphis albiventris\n",
      "\tEuphractus sexcinctus\n",
      "\tEira barbara\n",
      "Câmera 94 :\n",
      "\tCariama cristata\n",
      "\tCariama cristata\n",
      "\tRhea americana\n",
      "\tDasypus novemcinctus\n",
      "\tMazama americana\n",
      "\tPuma concolor\n",
      "\tCanis familiaris\n",
      "\tCanis familiaris\n",
      "Câmera 95 :\n",
      "\tCariama cristata\n",
      "\tCariama cristata\n",
      "\tCabassous unicinctus\n",
      "\tCerdocyon thous\n",
      "\tDidelphis albiventris\n",
      "\tEuphractus sexcinctus\n",
      "\tCanis familiaris\n",
      "\tCanis familiaris\n",
      "Câmera 96 :\n",
      "\tRhea americana\n",
      "\tDasypus novemcinctus\n",
      "\tDidelphis albiventris\n",
      "\tDidelphis albiventris\n",
      "\tCanis familiaris\n",
      "\tCanis familiaris\n",
      "Câmera 97 :\n",
      "\tCariama cristata\n",
      "\tLeopardus pardalis\n",
      "\tLeopardus wiedii\n",
      "\tCanis familiaris\n",
      "\tCanis familiaris\n",
      "\tCanis familiaris\n",
      "\tCanis familiaris\n",
      "\tCabassous unicinctus\n",
      "\tCerdocyon thous\n",
      "\tChrysocyon brachyurus\n",
      "\tDasypus novemcinctus\n",
      "\tDidelphis albiventris\n",
      "\tHydrochoerus hydrochaeris\n",
      "\tHydrochoerus hydrochaeris\n",
      "\tHydrochoerus hydrochaeris\n",
      "Câmera 98 :\n",
      "\tCerdocyon thous\n",
      "\tLeopardus pardalis\n",
      "\tMazama americana\n",
      "\tMazama americana\n",
      "\tCanis familiaris\n",
      "\tCanis familiaris\n",
      "\tCanis familiaris\n",
      "\tEira barbara\n",
      "\tEira barbara\n",
      "\tChrysocyon brachyurus\n",
      "\tDidelphis albiventris\n",
      "\tDidelphis albiventris\n",
      "\tDidelphis albiventris\n",
      "\tDidelphis albiventris\n",
      "\tDidelphis albiventris\n",
      "\tLeopardus pardalis\n",
      "\tLeopardus pardalis\n",
      "Câmera 99 :\n",
      "\tDasypus novemcinctus\n",
      "\tDidelphis albiventris\n",
      "\tDidelphis albiventris\n",
      "\tLycalopex vetulus\n",
      "\tCanis familiaris\n",
      "\tCanis familiaris\n",
      "\tEira barbara\n",
      "Câmera 100 :\n",
      "\tCariama cristata\n",
      "\tCariama cristata\n",
      "\tDasypus novemcinctus\n",
      "\tLeopardus pardalis\n",
      "\tMazama gouazoubira\n",
      "\tCanis familiaris\n",
      "\tCanis familiaris\n",
      "\tCanis familiaris\n"
     ]
    }
   ],
   "source": [
    "# este é o loop externo\n",
    "for cam in os.listdir('./data/ctraps/'):\n",
    "    print(\"Câmera\", numeroCamera(cam),\":\")\n",
    "    \n",
    "    # este é o loop interno\n",
    "    for rec in os.listdir('./data/ctraps/'+cam):\n",
    "        rec_path = './data/ctraps/'+cam+'/'+rec\n",
    "        f = open(rec_path) # abre o arquivo com o registro\n",
    "        spname = f.read() # lê o nome da espécie registrada\n",
    "        print(\"\\t\"+spname) # imprime o nome da espécie no console\n",
    "        f.close() # fecha o arquivo"
   ]
  },
  {
   "cell_type": "markdown",
   "metadata": {},
   "source": [
    "Este código também será reutilizado algumas vezes durante a nossa aplicação.\n",
    "Portanto, para evitar reescrevê-lo, vamos organizá-lo dentro de uma função."
   ]
  },
  {
   "cell_type": "markdown",
   "metadata": {},
   "source": [
    "Vamos definir a função `buscaRegistros` que, como o nome sugere, retornará os registros para dada câmera. \n",
    "Ela deve receber como entrada o nome de uma câmera e retornar uma **lista** contendo os nomes das espécies registradas."
   ]
  },
  {
   "cell_type": "code",
   "execution_count": 33,
   "metadata": {},
   "outputs": [],
   "source": [
    "def buscaRegistros( nomeCamera ):\n",
    "    '''Retorna uma lista com os nomes das espécies registradas por uma camera'''\n",
    "    camDir = './data/ctraps/'+nomeCamera\n",
    "    l = []\n",
    "    for reg in os.listdir(camDir):\n",
    "        f=open(camDir+'/'+reg)\n",
    "        sp = f.read()\n",
    "        l.append(sp)\n",
    "        f.close()\n",
    "    return l"
   ]
  },
  {
   "cell_type": "markdown",
   "metadata": {},
   "source": [
    "Vamos agora construir um código para percorrer todas as câmeras e, para cada uma delas, imprimir seu nome e as espécies por ela registrada.\n",
    "Use a função `buscaRegistros`, que acabamos de definir acima."
   ]
  },
  {
   "cell_type": "code",
   "execution_count": 34,
   "metadata": {},
   "outputs": [
    {
     "name": "stdout",
     "output_type": "stream",
     "text": [
      "['Cerdocyon thous', 'Didelphis albiventris', 'Didelphis albiventris', 'Didelphis albiventris', 'Hydrochoerus hydrochaeris', 'Lycalopex vetulus', 'Lycalopex vetulus', 'Canis familiaris', 'Myrmecophaga tridactyla']\n"
     ]
    }
   ],
   "source": [
    "print( buscaRegistros(\"cam001\") )"
   ]
  },
  {
   "cell_type": "markdown",
   "metadata": {},
   "source": [
    "Agora um desafio!"
   ]
  },
  {
   "cell_type": "markdown",
   "metadata": {},
   "source": [
    "### Desafio 1. Exportando os dados para CSV"
   ]
  },
  {
   "cell_type": "markdown",
   "metadata": {},
   "source": [
    "Caso quiséssemos inserir estes dados em uma rotina de análise, em nosso projeto de pesquisa, precisaríamos armazená-los de uma forma um pouco mais estruturada. Por exemplo, na forma de uma **tabela**!\n",
    "Assim, poderíamos explorá-los muito mais facilmente, por exemplo, com aplicativos de planilha eletrônica.\n",
    "Além disso, ficaria mais simples compartilhá-los com colegas.\n",
    "Uma forma simples de conseguir isso é criando um arquivo *CSV*."
   ]
  },
  {
   "cell_type": "markdown",
   "metadata": {},
   "source": [
    "Seu desafio será adaptar o algoritmo que acabamos de criar acima para construir um arquivo CSV contendo os dados.\n",
    "O código é quase o mesmo, com a diferença é que, em vez de simplesmente imprimir os dados no console, você deverá estruturá-los como um arquivo de texto.\n",
    "\n",
    "**Dica**: O arquivo CSV delimita colunas usando o caractere `','` (também poderia usar outros, mas vamos usar a vírgula aqui); e linhas usando o caractere especial `'\\n'` (conhecido como *newline*, pois indica uma quebra de linha)."
   ]
  },
  {
   "cell_type": "code",
   "execution_count": 35,
   "metadata": {},
   "outputs": [],
   "source": [
    "f = open('dados.csv','w')\n",
    "\n",
    "# seu código aqui\n",
    "for cam in os.listdir('./data/ctraps'):\n",
    "    for sp in buscaRegistros(cam):\n",
    "        f.write(cam+', '+sp+'\\n')\n",
    "    \n",
    "f.close()"
   ]
  },
  {
   "cell_type": "markdown",
   "metadata": {},
   "source": [
    "Legal! com o código que construímos até agora já podemos obter rapidamente a lista completa de registros feitos por cada câmera.\n",
    "Mas estes dados fazem mais sentido se espacializados, certo? \n",
    "Para isso, nosso próximo desafio é encontrar uma maneira de associar cada câmera a uma célula do grid experimental.\n",
    "Vem então a pergunta: como representar o grid no computador?"
   ]
  },
  {
   "cell_type": "markdown",
   "metadata": {},
   "source": [
    "## Representando o Grid experimental"
   ]
  },
  {
   "cell_type": "markdown",
   "metadata": {},
   "source": [
    "Nesta etapa do projeto criaremos uma representação do nosso **grid experimental**, para que possamos armazenar as informações de ocorrência das espécies. Já sabemos construir listas de espécies, mas como representar a espacialização das células do nosso grid (por exemplo, é importante representar, além de cada célula individual, quais são suas vizinhas)."
   ]
  },
  {
   "cell_type": "markdown",
   "metadata": {},
   "source": [
    "Pois bem, uma forma intuitiva de representar nosso grid experimental é por meio de uma matriz de dimensão $10 \\times 10$ (ou seja, 10 linhas e 10 colunas).\n",
    "Nesta matriz, cada elemento $a_{i,j}$ representará uma célula do grid."
   ]
  },
  {
   "cell_type": "markdown",
   "metadata": {},
   "source": [
    "$$\n",
    "M=\n",
    "  \\begin{bmatrix}\n",
    "    a_{1,1} & a_{1,2} & \\cdots & a_{1,10}  \\\\\n",
    "    a_{2,1} & a_{2,2} & \\cdots & a_{2,10} \\\\\n",
    "    \\vdots  & \\vdots  & \\cdots & \\vdots \\\\\n",
    "    a_{10,1} & a_{10,2} & \\cdots & a_{10,10}  \\\\\n",
    "  \\end{bmatrix}\n",
    "$$\n"
   ]
  },
  {
   "cell_type": "markdown",
   "metadata": {},
   "source": [
    "No entanto, matrizes não são estruturas nativas na linguagem *Python*, o que significa que a linguagem por si só não oferece esta estrutura.\n",
    "Mas podemos contornar este problema usando **listas aninhadas**!"
   ]
  },
  {
   "cell_type": "markdown",
   "metadata": {},
   "source": [
    "Para exemplificar, vamos criar um grid pequeno com 9 células (dimensão $3\\times3$):"
   ]
  },
  {
   "cell_type": "code",
   "execution_count": 36,
   "metadata": {},
   "outputs": [],
   "source": [
    "g = [ [1,2,3],\n",
    "      [4,5,6],\n",
    "      [7,8,9]]"
   ]
  },
  {
   "cell_type": "markdown",
   "metadata": {},
   "source": [
    "Usando a mesma notação de listas podemos facilmente recuperar"
   ]
  },
  {
   "cell_type": "markdown",
   "metadata": {},
   "source": [
    "*(i)* **linhas inteiras**"
   ]
  },
  {
   "cell_type": "code",
   "execution_count": 37,
   "metadata": {},
   "outputs": [
    {
     "name": "stdout",
     "output_type": "stream",
     "text": [
      "[1, 2, 3]\n",
      "[4, 5, 6]\n"
     ]
    }
   ],
   "source": [
    "# Recupera a primeira linha\n",
    "print( g[0] )\n",
    "\n",
    "# Recupera a segunda linha\n",
    "print( g[1] )"
   ]
  },
  {
   "cell_type": "markdown",
   "metadata": {},
   "source": [
    "*(ii)* **elementos individuais**"
   ]
  },
  {
   "cell_type": "code",
   "execution_count": 38,
   "metadata": {},
   "outputs": [
    {
     "name": "stdout",
     "output_type": "stream",
     "text": [
      "Elemento na linha 1, coluna 1: 1\n",
      "Elemento na linha 2, coluna 3: 6\n"
     ]
    }
   ],
   "source": [
    "print(\"Elemento na linha 1, coluna 1:\", g[0][0] )\n",
    "\n",
    "print(\"Elemento na linha 2, coluna 3:\", g[1][2] )"
   ]
  },
  {
   "cell_type": "markdown",
   "metadata": {},
   "source": [
    "**Obs:** Recuperar uma coluna inteira neste caso não é trivial como recuperar uma linha inteira. Não vamos abordar isto por enquanto."
   ]
  },
  {
   "cell_type": "markdown",
   "metadata": {},
   "source": [
    "## Criando o grid"
   ]
  },
  {
   "cell_type": "markdown",
   "metadata": {},
   "source": [
    "Poderíamos criar o grid manualmente (o que seria bastante trabalhoso, visto que teríamos que digitar 100 elementos).\n",
    "Não teria uma forma mais \"automática\"? \n",
    "Sim! Podemos usar loops!"
   ]
  },
  {
   "cell_type": "markdown",
   "metadata": {},
   "source": [
    "Vamos usar o seguinte algoritmo:\n",
    "\n",
    "1. Criar uma lista vazia (chamaremos de \"lista externa\")\n",
    "2. Percorrer um loop com 10 iterações, e em cada uma delas:\n",
    "   1. Adicionar uma nova lista vazia (a \"lista linha\") à lista externa, criada no passo 1\n",
    "   2. Percorrer um novo loop com 10 iterações, em cada um deles adicionando mais um elemento `0` na lista linha"
   ]
  },
  {
   "cell_type": "code",
   "execution_count": 39,
   "metadata": {},
   "outputs": [
    {
     "data": {
      "text/plain": [
       "[[0, 0, 0, 0, 0, 0, 0, 0, 0, 0],\n",
       " [0, 0, 0, 0, 0, 0, 0, 0, 0, 0],\n",
       " [0, 0, 0, 0, 0, 0, 0, 0, 0, 0],\n",
       " [0, 0, 0, 0, 0, 0, 0, 0, 0, 0],\n",
       " [0, 0, 0, 0, 0, 0, 0, 0, 0, 0],\n",
       " [0, 0, 0, 0, 0, 0, 0, 0, 0, 0],\n",
       " [0, 0, 0, 0, 0, 0, 0, 0, 0, 0],\n",
       " [0, 0, 0, 0, 0, 0, 0, 0, 0, 0],\n",
       " [0, 0, 0, 0, 0, 0, 0, 0, 0, 0],\n",
       " [0, 0, 0, 0, 0, 0, 0, 0, 0, 0]]"
      ]
     },
     "execution_count": 39,
     "metadata": {},
     "output_type": "execute_result"
    }
   ],
   "source": [
    "l = []\n",
    "\n",
    "for i in range(10):\n",
    "    l = l + [[]]\n",
    "    for j in range(10):\n",
    "        l[i] = l[i] + [0]\n",
    "\n",
    "\n",
    "l"
   ]
  },
  {
   "cell_type": "markdown",
   "metadata": {},
   "source": [
    "**Obs:** O *Python* permite fazer a mesma tarefa usando um atalho:"
   ]
  },
  {
   "cell_type": "code",
   "execution_count": 40,
   "metadata": {},
   "outputs": [
    {
     "data": {
      "text/plain": [
       "[[0, 0, 0, 0, 0, 0, 0, 0, 0, 0],\n",
       " [0, 0, 0, 0, 0, 0, 0, 0, 0, 0],\n",
       " [0, 0, 0, 0, 0, 0, 0, 0, 0, 0],\n",
       " [0, 0, 0, 0, 0, 0, 0, 0, 0, 0],\n",
       " [0, 0, 0, 0, 0, 0, 0, 0, 0, 0],\n",
       " [0, 0, 0, 0, 0, 0, 0, 0, 0, 0],\n",
       " [0, 0, 0, 0, 0, 0, 0, 0, 0, 0],\n",
       " [0, 0, 0, 0, 0, 0, 0, 0, 0, 0],\n",
       " [0, 0, 0, 0, 0, 0, 0, 0, 0, 0],\n",
       " [0, 0, 0, 0, 0, 0, 0, 0, 0, 0]]"
      ]
     },
     "execution_count": 40,
     "metadata": {},
     "output_type": "execute_result"
    }
   ],
   "source": [
    "[[0]*10]*10"
   ]
  },
  {
   "cell_type": "markdown",
   "metadata": {},
   "source": [
    "Para finalizar esta parte, vamos encapsular nosso código em uma função `criaGrid`.\n",
    "Ela deve ter como parâmetros `n` e `m`, que correspondem, respectivamente, ao número de linhas e colunas do grid.\n",
    "Ela deve retornar o grid na forma de listas aninhadas, como fizemos acima."
   ]
  },
  {
   "cell_type": "code",
   "execution_count": 41,
   "metadata": {},
   "outputs": [],
   "source": [
    "def criaGrid(n,m):\n",
    "    '''Cria um grid com n linhas e m colunas (todos os elementos são 0)'''\n",
    "    l = []\n",
    "    for i in range(n):\n",
    "        l = l + [[]]\n",
    "        for j in range(m):\n",
    "            l[i] = l[i] + [0]\n",
    "            \n",
    "    return l"
   ]
  },
  {
   "cell_type": "code",
   "execution_count": 42,
   "metadata": {},
   "outputs": [
    {
     "data": {
      "text/plain": [
       "[[0, 0, 0, 0, 0, 0, 0, 0, 0, 0],\n",
       " [0, 0, 0, 0, 0, 0, 0, 0, 0, 0],\n",
       " [0, 0, 0, 0, 0, 0, 0, 0, 0, 0],\n",
       " [0, 0, 0, 0, 0, 0, 0, 0, 0, 0],\n",
       " [0, 0, 0, 0, 0, 0, 0, 0, 0, 0],\n",
       " [0, 0, 0, 0, 0, 0, 0, 0, 0, 0],\n",
       " [0, 0, 0, 0, 0, 0, 0, 0, 0, 0],\n",
       " [0, 0, 0, 0, 0, 0, 0, 0, 0, 0],\n",
       " [0, 0, 0, 0, 0, 0, 0, 0, 0, 0],\n",
       " [0, 0, 0, 0, 0, 0, 0, 0, 0, 0]]"
      ]
     },
     "execution_count": 42,
     "metadata": {},
     "output_type": "execute_result"
    }
   ],
   "source": [
    "g = criaGrid(10,10)\n",
    "\n",
    "g"
   ]
  },
  {
   "cell_type": "markdown",
   "metadata": {},
   "source": [
    "Excelente! Agora seu grid está representado na memória do seu computador. Mas para produzir o mapa de ocorrência ainda precisamos informar, em cada célula do grid, se aquela espécie foi registrada ou não."
   ]
  },
  {
   "cell_type": "markdown",
   "metadata": {},
   "source": [
    "## Mapeando as câmeras no grid"
   ]
  },
  {
   "cell_type": "markdown",
   "metadata": {},
   "source": [
    "Agora que temos os grids com todas as células \"vazias\" (`0` representa não-ocorrência da espécie), precisamos encontrar uma maneira de preencher as ocorrências. A princípio, mudar um elemento do crid com base nas suas coordenadas `n` e `m` é trivial:"
   ]
  },
  {
   "cell_type": "code",
   "execution_count": 43,
   "metadata": {},
   "outputs": [],
   "source": [
    "# Marca como 1 o elemento na linha 4, coluna 5\n",
    "g[3][4]=1"
   ]
  },
  {
   "cell_type": "code",
   "execution_count": 44,
   "metadata": {},
   "outputs": [
    {
     "data": {
      "text/plain": [
       "[[0, 0, 0, 0, 0, 0, 0, 0, 0, 0],\n",
       " [0, 0, 0, 0, 0, 0, 0, 0, 0, 0],\n",
       " [0, 0, 0, 0, 0, 0, 0, 0, 0, 0],\n",
       " [0, 0, 0, 0, 1, 0, 0, 0, 0, 0],\n",
       " [0, 0, 0, 0, 0, 0, 0, 0, 0, 0],\n",
       " [0, 0, 0, 0, 0, 0, 0, 0, 0, 0],\n",
       " [0, 0, 0, 0, 0, 0, 0, 0, 0, 0],\n",
       " [0, 0, 0, 0, 0, 0, 0, 0, 0, 0],\n",
       " [0, 0, 0, 0, 0, 0, 0, 0, 0, 0],\n",
       " [0, 0, 0, 0, 0, 0, 0, 0, 0, 0]]"
      ]
     },
     "execution_count": 44,
     "metadata": {},
     "output_type": "execute_result"
    }
   ],
   "source": [
    "g"
   ]
  },
  {
   "cell_type": "markdown",
   "metadata": {},
   "source": [
    "Mas no nosso problema, as câmeras estão numeradas de 0 a 100.\n",
    "Como mapear um número para uma coordenada?"
   ]
  },
  {
   "cell_type": "code",
   "execution_count": 45,
   "metadata": {},
   "outputs": [
    {
     "name": "stdout",
     "output_type": "stream",
     "text": [
      "x (linha) 2\n",
      "y (col) 0\n"
     ]
    }
   ],
   "source": [
    "n = 7\n",
    "n = n-1\n",
    "\n",
    "num_cols = 3\n",
    "\n",
    "# Um pouco de aritmética aqui... o segredo é saber usar os operadores de módulo e divisão inteira\n",
    "print(\"x (linha)\",(n)//num_cols)\n",
    "print(\"y (col)\",(n)%num_cols) "
   ]
  },
  {
   "cell_type": "markdown",
   "metadata": {},
   "source": [
    "Escreva uma função `camCoords` para encapsular o código que acabamos de escrever. Ou seja, ela retorna as coordenadas de uma câmera, a partir de seu número."
   ]
  },
  {
   "cell_type": "code",
   "execution_count": 46,
   "metadata": {},
   "outputs": [],
   "source": [
    "def camCoords(g,camNum):\n",
    "    '''Retorna as coordenadas de uma câmera a partir de seu número'''\n",
    "    g_ncols= len(g[0])\n",
    "    \n",
    "    coord_linha = (camNum-1)//g_ncols\n",
    "    coord_col = (camNum-1)%g_ncols\n",
    "    \n",
    "    return [ coord_linha, coord_col ]"
   ]
  },
  {
   "cell_type": "code",
   "execution_count": 47,
   "metadata": {},
   "outputs": [
    {
     "name": "stdout",
     "output_type": "stream",
     "text": [
      "Câmera 1: [0, 0]\n",
      "Câmera 13: [1, 2]\n",
      "Câmera 30: [2, 9]\n",
      "Câmera 100: [9, 9]\n"
     ]
    }
   ],
   "source": [
    "# Posição da câmera 1 no grid\n",
    "print( \"Câmera 1:\", camCoords(g,1) )\n",
    "\n",
    "# Posição da câmera 13 no grid\n",
    "print( \"Câmera 13:\", camCoords(g,13) )\n",
    "\n",
    "# Posição da câmera 30 no grid\n",
    "print( \"Câmera 30:\", camCoords(g,30) )\n",
    "\n",
    "# Posição da câmera 100 no grid\n",
    "print( \"Câmera 100:\", camCoords(g,100) )"
   ]
  },
  {
   "cell_type": "markdown",
   "metadata": {},
   "source": [
    "Agora a função `registraOcorrencia` deve apenas marcar um `1` nas coordenadas da câmera passada como *input*"
   ]
  },
  {
   "cell_type": "code",
   "execution_count": 48,
   "metadata": {},
   "outputs": [],
   "source": [
    "def registraOcorrencia(grid,camNum):\n",
    "    '''Marca como 1 o elemento nas coordenadas de uma câmera de número `camNum`'''\n",
    "    coords = camCoords(grid,camNum)\n",
    "    grid[coords[0]][coords[1]] = 1"
   ]
  },
  {
   "cell_type": "code",
   "execution_count": 49,
   "metadata": {},
   "outputs": [
    {
     "data": {
      "text/plain": [
       "[[0, 0, 0, 0, 0, 0, 0, 0, 0, 0],\n",
       " [0, 0, 0, 0, 0, 0, 0, 0, 0, 0],\n",
       " [0, 0, 0, 0, 0, 0, 0, 0, 0, 0],\n",
       " [0, 0, 0, 0, 1, 0, 0, 0, 0, 0],\n",
       " [0, 0, 0, 0, 0, 0, 0, 0, 0, 0],\n",
       " [0, 0, 0, 0, 0, 0, 0, 0, 0, 0],\n",
       " [0, 0, 0, 0, 0, 0, 0, 0, 0, 0],\n",
       " [0, 0, 0, 0, 0, 0, 0, 0, 0, 0],\n",
       " [0, 0, 0, 0, 0, 0, 0, 0, 0, 0],\n",
       " [0, 0, 0, 0, 0, 0, 0, 0, 0, 0]]"
      ]
     },
     "execution_count": 49,
     "metadata": {},
     "output_type": "execute_result"
    }
   ],
   "source": [
    "# Como o grid está até agora\n",
    "g"
   ]
  },
  {
   "cell_type": "code",
   "execution_count": 50,
   "metadata": {},
   "outputs": [],
   "source": [
    "# Registrando ocorrências nas câmeras 1,2 e 3\n",
    "registraOcorrencia(g, 1)\n",
    "registraOcorrencia(g, 2)\n",
    "registraOcorrencia(g, 3)"
   ]
  },
  {
   "cell_type": "code",
   "execution_count": 51,
   "metadata": {},
   "outputs": [
    {
     "data": {
      "text/plain": [
       "[[1, 1, 1, 0, 0, 0, 0, 0, 0, 0],\n",
       " [0, 0, 0, 0, 0, 0, 0, 0, 0, 0],\n",
       " [0, 0, 0, 0, 0, 0, 0, 0, 0, 0],\n",
       " [0, 0, 0, 0, 1, 0, 0, 0, 0, 0],\n",
       " [0, 0, 0, 0, 0, 0, 0, 0, 0, 0],\n",
       " [0, 0, 0, 0, 0, 0, 0, 0, 0, 0],\n",
       " [0, 0, 0, 0, 0, 0, 0, 0, 0, 0],\n",
       " [0, 0, 0, 0, 0, 0, 0, 0, 0, 0],\n",
       " [0, 0, 0, 0, 0, 0, 0, 0, 0, 0],\n",
       " [0, 0, 0, 0, 0, 0, 0, 0, 0, 0]]"
      ]
     },
     "execution_count": 51,
     "metadata": {},
     "output_type": "execute_result"
    }
   ],
   "source": [
    "# Como o grid ficou\n",
    "g"
   ]
  },
  {
   "cell_type": "markdown",
   "metadata": {},
   "source": [
    "Ótimo! Agora já sabemos marcar ocorrências no grid.\n",
    "O problema é que até agora estas ocorrências não dizem respeito a nenhuma espécie em particular.\n",
    "Para resolver o nosso problema, devemos apenas marcar a ocorrência se a espécie que buscamos tiver sido registrada pela câmera."
   ]
  },
  {
   "cell_type": "markdown",
   "metadata": {},
   "source": [
    "## Registrando ocorrências de espécies no grid"
   ]
  },
  {
   "cell_type": "markdown",
   "metadata": {},
   "source": [
    "Vamos agora registrar a ocorrência das espécies no grid.\n",
    "Funcionará assim: Primeiro escolheremos uma espécie para montar o grid e, em seguida, nosso programa deverá percorrer cada uma das câmeras e verificar se a espécie procurada foi registrada por ela. Caso tenha sido, marcaremos `1` na respectiva célula no grid.\n",
    "Mas como podemos codificar este \"caso\" no nosso programa?\n",
    "\n",
    "Para isso vamos conhecer rapidamente as **estruturas condicionais**:"
   ]
  },
  {
   "cell_type": "markdown",
   "metadata": {},
   "source": [
    "### Estruturas Condicionais"
   ]
  },
  {
   "cell_type": "markdown",
   "metadata": {},
   "source": [
    "Estruturas condicionais permitem alterar o fluxo de execução de um programa através da verificação de **condições**, que podem ser codificadas em nosso programa por meio de **expressões lógicas**."
   ]
  },
  {
   "cell_type": "markdown",
   "metadata": {},
   "source": [
    "| Operador | Descrição |\n",
    "| -------- | --------- |\n",
    "| **Operadores de comparação** | |\n",
    "|    `==`  | `True` se valores de dois operandos são iguais |\n",
    "|    `!=`  | `True` se valores de dois operandos são diferentes |\n",
    "|    `<`  | `True` se valor do operando à esquerda é menor que o da direita |\n",
    "|    `<=`  | `True` se valor do operando à esquerda é menor ou igual ao da direita|\n",
    "|    `>`  | `True` se valor do operando à esquerda é maior que o da direita |\n",
    "|    `>=`  | `True` se valor do operando à esquerda é maior ou igual ao da direita |\n",
    "| **Operadores lógicos**| |\n",
    "|    `and`  | Operador lógico \"E\" |\n",
    "|    `or`  | Operador lógico \"OU\" |\n",
    "|    `not`  |Operador lógico \"NÃO\" |"
   ]
  },
  {
   "cell_type": "code",
   "execution_count": 52,
   "metadata": {},
   "outputs": [
    {
     "name": "stdout",
     "output_type": "stream",
     "text": [
      "a = 5 ; b = 3\n",
      "a é maior que b? True\n",
      "a é maior ou igual a b? True\n",
      "a é diferente de b? True\n",
      "a é igual a b? False\n"
     ]
    }
   ],
   "source": [
    "# Dados dois valores numéricos a e b\n",
    "a = 5\n",
    "b = 3\n",
    "print(\"a =\",a, \"; b =\",b)\n",
    "\n",
    "# a é maior que b?\n",
    "print(\"a é maior que b?\", a>b)\n",
    "\n",
    "# a é maior ou igual a b+2?\n",
    "print(\"a é maior ou igual a b?\", a >= b )\n",
    "\n",
    "# a é diferente de b?\n",
    "print(\"a é diferente de b?\", a!=b)\n",
    "\n",
    "print(\"a é igual a b?\", a==b)"
   ]
  },
  {
   "cell_type": "code",
   "execution_count": 53,
   "metadata": {},
   "outputs": [
    {
     "name": "stdout",
     "output_type": "stream",
     "text": [
      "a = True ; b = False\n",
      "a e b: False\n",
      "a ou b: True\n",
      "a e não b: True\n",
      "não a ou b: False\n"
     ]
    }
   ],
   "source": [
    "# Dados dois valores lógicos a e b\n",
    "a = True\n",
    "b = False\n",
    "print(\"a =\",a, \"; b =\",b)\n",
    "\n",
    "print(\"a e b:\", a and b)\n",
    "print(\"a ou b:\", a or b)\n",
    "print(\"a e não b:\", a and not b)\n",
    "print(\"não a ou b:\", not a and b)"
   ]
  },
  {
   "cell_type": "markdown",
   "metadata": {},
   "source": [
    "#### A construção *if*"
   ]
  },
  {
   "cell_type": "markdown",
   "metadata": {},
   "source": [
    "A construção `if` é a estrutura mais simples de escrevermos um bloco de código $A$ que somente deve ser executado caso uma determinada condição **seja satisfeita** (ou seja, avaliada como `True`). Caso contrário, o código $A$ é simplesmente ignorado."
   ]
  },
  {
   "cell_type": "markdown",
   "metadata": {},
   "source": [
    "<img src=\"img/conditionals_if.png\" width=400/>"
   ]
  },
  {
   "cell_type": "code",
   "execution_count": 54,
   "metadata": {},
   "outputs": [
    {
     "name": "stdout",
     "output_type": "stream",
     "text": [
      "Antes do condicional: sempre executa\n",
      "Código A: só executa se a condição tiver sido VERDADEIRA\n",
      "Depois do condicional: sempre executa\n"
     ]
    }
   ],
   "source": [
    "condicao=True\n",
    "\n",
    "print(\"Antes do condicional: sempre executa\")\n",
    "if condicao==True: # poderia tmb escrever simplesmente `if condicao: `\n",
    "    print(\"Código A: só executa se a condição tiver sido VERDADEIRA\")\n",
    "    \n",
    "print(\"Depois do condicional: sempre executa\")"
   ]
  },
  {
   "cell_type": "code",
   "execution_count": 55,
   "metadata": {},
   "outputs": [
    {
     "name": "stdout",
     "output_type": "stream",
     "text": [
      "Antes do condicional: sempre executa\n",
      "Depois do condicional: sempre executa\n"
     ]
    }
   ],
   "source": [
    "# este é o mesmo código da célula acima, apenas com a condição sendo falsa\n",
    "condicao=False\n",
    "\n",
    "print(\"Antes do condicional: sempre executa\")\n",
    "if condicao==True: # poderia tmb escrever simplesmente `if condicao: `\n",
    "    print(\"Código A: só executa se a condição tiver sido VERDADEIRA\")\n",
    "    \n",
    "print(\"Depois do condicional: sempre executa\")"
   ]
  },
  {
   "cell_type": "markdown",
   "metadata": {},
   "source": [
    "#### A construção *if else*"
   ]
  },
  {
   "cell_type": "markdown",
   "metadata": {},
   "source": [
    "Um `if` pode ser associado a um `else`, contendo um bloco de código que é executado casa a condição do `if` **não seja satisfeita** (ou seja, avaliada como `False`).\n",
    " "
   ]
  },
  {
   "cell_type": "markdown",
   "metadata": {},
   "source": [
    "<img src=\"img/conditionals_ifelse.png\" width=400/>"
   ]
  },
  {
   "cell_type": "code",
   "execution_count": 56,
   "metadata": {},
   "outputs": [
    {
     "name": "stdout",
     "output_type": "stream",
     "text": [
      "Antes do condicional: sempre executa\n",
      "Código A: só executa se a condição tiver sido VERDADEIRA\n",
      "Depois do condicional: sempre executa\n"
     ]
    }
   ],
   "source": [
    "condicao=True\n",
    "\n",
    "print(\"Antes do condicional: sempre executa\")\n",
    "if condicao==True: # poderia tmb escrever simplesmente `if condicao: `\n",
    "    print(\"Código A: só executa se a condição tiver sido VERDADEIRA\")\n",
    "else:\n",
    "    print(\"Código B: só executa se a condição não tiver sido FALSA\")\n",
    "    \n",
    "print(\"Depois do condicional: sempre executa\")"
   ]
  },
  {
   "cell_type": "code",
   "execution_count": 57,
   "metadata": {},
   "outputs": [
    {
     "name": "stdout",
     "output_type": "stream",
     "text": [
      "Antes do condicional: sempre executa\n",
      "Código B: só executa se a condição tiver sido FALSA)\n",
      "Depois do condicional: sempre executa\n"
     ]
    }
   ],
   "source": [
    "# este é o mesmo código da célula acima, apenas com a condição sendo falsa\n",
    "condicao=False\n",
    "\n",
    "print(\"Antes do condicional: sempre executa\")\n",
    "if condicao==True: # poderia tmb escrever simplesmente `if condicao: `\n",
    "    print(\"Código A: só executa se a condição tiver sido VERDADEIRA\")\n",
    "else:\n",
    "    print(\"Código B: só executa se a condição tiver sido FALSA)\")\n",
    "    \n",
    "print(\"Depois do condicional: sempre executa\")"
   ]
  },
  {
   "cell_type": "markdown",
   "metadata": {},
   "source": [
    "Estas são as construções mais básicas, que são suficientes para os objetivos do nosso curso.\n",
    "Mas caso você continue estudando programação certamente vai aprender algumas variantes bastante úteis."
   ]
  },
  {
   "cell_type": "markdown",
   "metadata": {},
   "source": [
    "### Voltando ao projeto...<a class=\"tocSkip\"></a>"
   ]
  },
  {
   "cell_type": "markdown",
   "metadata": {},
   "source": [
    "Finalmente, vamos construir a função `ondeFoiRegistrado`.\n",
    "Recebe como *input* o nome da espécie a ser buscada, e retorna como *output* uma lista contendo os nomes das câmeras que a registraram.\n",
    "Na implementação desta função, devermos checar, na lista de registros de cada câmera, se a espécie que buscamos está presente. **Somente caso esteja** incluiremos o nome da câmera no resultado"
   ]
  },
  {
   "cell_type": "code",
   "execution_count": 58,
   "metadata": {},
   "outputs": [],
   "source": [
    "def ondeFoiRegistrado(especie):\n",
    "    '''Retorna os nomes das câmeras que registraram uma espécie'''\n",
    "    l = []\n",
    "    for cam in os.listdir('./data/ctraps'):\n",
    "        if especie in buscaRegistros(cam):\n",
    "            l = l + [cam]\n",
    "        \n",
    "    return l"
   ]
  },
  {
   "cell_type": "markdown",
   "metadata": {},
   "source": [
    "Vejamos quais câmeras registraram a Onça-parda (*Puma concolor*)"
   ]
  },
  {
   "cell_type": "code",
   "execution_count": 59,
   "metadata": {},
   "outputs": [
    {
     "name": "stdout",
     "output_type": "stream",
     "text": [
      "A Onça-parda foi registrada nas câmeras:\n",
      "cam015\n",
      "cam020\n",
      "cam027\n",
      "cam033\n",
      "cam035\n",
      "cam038\n",
      "cam043\n",
      "cam046\n",
      "cam047\n",
      "cam058\n",
      "cam062\n",
      "cam078\n",
      "cam085\n",
      "cam092\n",
      "cam094\n"
     ]
    }
   ],
   "source": [
    "print(\"A Onça-parda foi registrada nas câmeras:\")\n",
    "\n",
    "for cam in ondeFoiRegistrado('Puma concolor'):\n",
    "    print(cam)"
   ]
  },
  {
   "cell_type": "markdown",
   "metadata": {},
   "source": [
    "E agora no grid:"
   ]
  },
  {
   "cell_type": "code",
   "execution_count": 60,
   "metadata": {},
   "outputs": [
    {
     "data": {
      "text/plain": [
       "[[0, 0, 0, 0, 0, 0, 0, 0, 0, 0],\n",
       " [0, 0, 0, 0, 1, 0, 0, 0, 0, 1],\n",
       " [0, 0, 0, 0, 0, 0, 1, 0, 0, 0],\n",
       " [0, 0, 1, 0, 1, 0, 0, 1, 0, 0],\n",
       " [0, 0, 1, 0, 0, 1, 1, 0, 0, 0],\n",
       " [0, 0, 0, 0, 0, 0, 0, 1, 0, 0],\n",
       " [0, 1, 0, 0, 0, 0, 0, 0, 0, 0],\n",
       " [0, 0, 0, 0, 0, 0, 0, 1, 0, 0],\n",
       " [0, 0, 0, 0, 1, 0, 0, 0, 0, 0],\n",
       " [0, 1, 0, 1, 0, 0, 0, 0, 0, 0]]"
      ]
     },
     "execution_count": 60,
     "metadata": {},
     "output_type": "execute_result"
    }
   ],
   "source": [
    "g = criaGrid(10,10)\n",
    "for cam in ondeFoiRegistrado('Puma concolor'):\n",
    "    camNum = numeroCamera(cam)\n",
    "    registraOcorrencia(g,camNum)\n",
    "    \n",
    "g"
   ]
  },
  {
   "cell_type": "markdown",
   "metadata": {},
   "source": [
    "Já temos a matriz de dados prontinha!\n",
    "Agora vamos construir a principal função do projeto: a função `criaMapa`, que deverá retornar uma matriz com as dimensões do grid experimental (10x10), sendo que cada elemento possuirá valor `1` caso a espécie ocorra em determinada célula; ou `0` caso contrário.\n",
    "\n",
    "Dado apenas o nome da espécie, ela deve se encarregar de fazer tudo: varrer os arquivos nos diretórios, buscar as câmeras que registraram a espécie, construir o grid e marcar as ocorrências nele.\n",
    "Como já construímos várias funções auxiliares ao longo do projeto, a implementação desta função deverá ser bastante simples."
   ]
  },
  {
   "cell_type": "code",
   "execution_count": 61,
   "metadata": {},
   "outputs": [],
   "source": [
    "def criaMapa(especie):\n",
    "    '''Retorna o mapa de ocorrência (um grid 10x10) para uma espécie'''\n",
    "    cameras = ondeFoiRegistrado(especie)\n",
    "    g = criaGrid(10,10)\n",
    "    for cam in cameras:\n",
    "        camNum = numeroCamera(cam)\n",
    "        registraOcorrencia(g,camNum)\n",
    "    return g"
   ]
  },
  {
   "cell_type": "code",
   "execution_count": 62,
   "metadata": {},
   "outputs": [
    {
     "data": {
      "text/plain": [
       "[[0, 0, 0, 0, 0, 0, 0, 0, 0, 0],\n",
       " [0, 0, 0, 0, 1, 0, 0, 0, 0, 1],\n",
       " [0, 0, 0, 0, 0, 0, 1, 0, 0, 0],\n",
       " [0, 0, 1, 0, 1, 0, 0, 1, 0, 0],\n",
       " [0, 0, 1, 0, 0, 1, 1, 0, 0, 0],\n",
       " [0, 0, 0, 0, 0, 0, 0, 1, 0, 0],\n",
       " [0, 1, 0, 0, 0, 0, 0, 0, 0, 0],\n",
       " [0, 0, 0, 0, 0, 0, 0, 1, 0, 0],\n",
       " [0, 0, 0, 0, 1, 0, 0, 0, 0, 0],\n",
       " [0, 1, 0, 1, 0, 0, 0, 0, 0, 0]]"
      ]
     },
     "execution_count": 62,
     "metadata": {},
     "output_type": "execute_result"
    }
   ],
   "source": [
    "criaMapa('Puma concolor')"
   ]
  },
  {
   "cell_type": "markdown",
   "metadata": {},
   "source": [
    "Parabéns! Com um pouco de programação você automatizou o gerenciamento de seus dados de campo. A cada nova revisão do seu monitoramento é só re-executar seu código, desde que você continue mantendo o mesmo sistema de organização de arquivos e diretórios. De qualquer forma agora você poderá investir mais tempo em analisar seus resultados!"
   ]
  },
  {
   "cell_type": "markdown",
   "metadata": {},
   "source": [
    "Mas antes de prosseguirmos, vamos a outro desafio."
   ]
  },
  {
   "cell_type": "markdown",
   "metadata": {},
   "source": [
    "### Desafio 2. Listando as espécies registradas"
   ]
  },
  {
   "cell_type": "markdown",
   "metadata": {},
   "source": [
    "Uma aplicação simples do condicional `if` é construir uma lista sem elementos repetidos.\n",
    "Quantas espécies diferentes foram registradas, ao todo, no monitoramento?\n",
    "Obtenha uma lista de espécies registradas pelo menos uma vez.\n",
    "Fique atento para o fato de que sua lista **não deve conter nomes repetidos**.\n",
    "Por fim, salve esta lista de espécies em um arquivo de texto (*txt*)."
   ]
  },
  {
   "cell_type": "code",
   "execution_count": 63,
   "metadata": {},
   "outputs": [
    {
     "name": "stdout",
     "output_type": "stream",
     "text": [
      "Cerdocyon thous\n",
      "Didelphis albiventris\n",
      "Hydrochoerus hydrochaeris\n",
      "Lycalopex vetulus\n",
      "Canis familiaris\n",
      "Myrmecophaga tridactyla\n",
      "Cariama cristata\n",
      "Cabassous unicinctus\n",
      "Dasypus novemcinctus\n",
      "Leopardus wiedii\n",
      "Mazama americana\n",
      "Mazama gouazoubira\n",
      "Eira barbara\n",
      "Euphractus sexcinctus\n",
      "Leopardus pardalis\n",
      "Puma yagouaroundi\n",
      "Rhea americana\n",
      "Sapajus libidinosus\n",
      "Chrysocyon brachyurus\n",
      "Puma concolor\n",
      "Tapirus terrestris\n",
      "Panthera onca\n"
     ]
    }
   ],
   "source": [
    "l = [] # começamos criando uma lista vazia\n",
    "\n",
    "for cam in os.listdir('./data/ctraps/'):\n",
    "    for sp in buscaRegistros(cam): # para cada espécie em cada câmera\n",
    "        if sp not in l: # inserir a espécie na lista l apenas se ela ainda não estava na lista\n",
    "            l = l + [sp] \n",
    "            \n",
    "\n",
    "f = open('listaespecies.txt','w')\n",
    "for sp in l:\n",
    "    print(sp) # esta linha imprime o nome da espécie no console\n",
    "    f.write(sp+'\\n') # esta linha grava o nome da espécie no arquivo, em uma nova linha\n",
    "f.close()"
   ]
  },
  {
   "cell_type": "markdown",
   "metadata": {},
   "source": [
    "---"
   ]
  },
  {
   "cell_type": "markdown",
   "metadata": {},
   "source": [
    "## Visualizando seu mapa"
   ]
  },
  {
   "cell_type": "markdown",
   "metadata": {},
   "source": [
    "Uma das qualidades que tornam a linguagem *Python* tão adequada para aplicações em análises de dados é a existência de bibliotecas de visualização, que facilitam muito o processo de exploração de dados e criação de figuras científicas. A principal biblioteca de visualização em *Python* chama-se [*Matplotlib*](https://matplotlib.org/), que traz todas as funcionalidades-base para a geração das figuras. O módulo [*pyplot*](https://matplotlib.org/api/pyplot_api.html) oferece ao usuário uma interface facilitada, com funções e rotinas que se assemelham ao ambiente *Matlab*. Por meio deste módulo podemos controlar uma série de parâmetros da figura, como tamanho, título, legendas, eixos, etc. Veja a [galeria de figuras](https://matplotlib.org/gallery.html) da *Matplotlib*."
   ]
  },
  {
   "cell_type": "markdown",
   "metadata": {},
   "source": [
    "Para gerar figuras no *Jupyter Notebook* precisamos importar as bibliotecas e módulos para a sessão:"
   ]
  },
  {
   "cell_type": "code",
   "execution_count": 64,
   "metadata": {},
   "outputs": [],
   "source": [
    "import matplotlib.pyplot as plt\n",
    "from matplotlib.colors import ListedColormap\n",
    "\n",
    "#esta linha de código diz ao Jupyter para plotar no próprio ambiente\n",
    "%matplotlib inline"
   ]
  },
  {
   "cell_type": "markdown",
   "metadata": {},
   "source": [
    "Primeiramente construa seu mapa de ocorrência na memória do computador"
   ]
  },
  {
   "cell_type": "code",
   "execution_count": 65,
   "metadata": {},
   "outputs": [],
   "source": [
    "m = criaMapa('Puma concolor')"
   ]
  },
  {
   "cell_type": "markdown",
   "metadata": {},
   "source": [
    "Veja agora como é fácil visualizar o mapa. Vamos utilizar a função `imshow` da *Matplotlib*, que aceita uma matriz e a colore conforme os valores de seus elementos. Você pode modificar os parâmetros da função e ver como eles afetam o resultado."
   ]
  },
  {
   "cell_type": "code",
   "execution_count": 66,
   "metadata": {},
   "outputs": [
    {
     "data": {
      "text/plain": [
       "<matplotlib.image.AxesImage at 0x7fa6eab90f98>"
      ]
     },
     "execution_count": 66,
     "metadata": {},
     "output_type": "execute_result"
    },
    {
     "data": {
      "image/png": "[encoded data removed]",
      "text/plain": [
       "<Figure size 432x288 with 1 Axes>"
      ]
     },
     "metadata": {},
     "output_type": "display_data"
    }
   ],
   "source": [
    "plt.imshow(m)"
   ]
  },
  {
   "cell_type": "markdown",
   "metadata": {},
   "source": [
    "Podemos também, com um pouco mais de código, sobrepor o grid à nossa imagem inicial"
   ]
  },
  {
   "cell_type": "code",
   "execution_count": 67,
   "metadata": {},
   "outputs": [],
   "source": [
    "def plotaFiguraMapa(mapa):\n",
    "    cmap = ListedColormap( ((0,0,0,0),'maroon') )\n",
    "    plt.figure(figsize=(10,10))\n",
    "\n",
    "    pnb_img = plt.imread('./img/trapcams_diagram_original.png')\n",
    "\n",
    "    plt.imshow(m,cmap=cmap, extent=[321,490,557,397])\n",
    "    plt.imshow(plt.imread('./img/trapcams_diagram_original.png'), zorder=-1,extent=[0,850,667,0])\n",
    "\n",
    "\n",
    "    plt.show()"
   ]
  },
  {
   "cell_type": "code",
   "execution_count": 68,
   "metadata": {},
   "outputs": [
    {
     "data": {
      "image/png": "[encoded data removed]",
      "text/plain": [
       "<Figure size 720x720 with 1 Axes>"
      ]
     },
     "metadata": {},
     "output_type": "display_data"
    }
   ],
   "source": [
    "plotaFiguraMapa(m)"
   ]
  },
  {
   "cell_type": "markdown",
   "metadata": {},
   "source": [
    "---"
   ]
  },
  {
   "cell_type": "markdown",
   "metadata": {},
   "source": [
    "## Construindo a aplicação final"
   ]
  },
  {
   "cell_type": "markdown",
   "metadata": {},
   "source": [
    "Para facilitar o uso da sua aplicação por colegas (ou por você próprio), seria ideal que o usuário precisasse apenas informar o nome da espécie, e o programa tomasse conta de todo o resto, mostrando ao final a figura do mapa de distribuição da espécie escolhida. Construa esta funcionalidade abaixo. Para perguntar o nome da espécie ao usuário utilize a função `input`."
   ]
  },
  {
   "cell_type": "code",
   "execution_count": 69,
   "metadata": {},
   "outputs": [
    {
     "name": "stdout",
     "output_type": "stream",
     "text": [
      "Qual o nome da espécie?Puma concolor\n"
     ]
    },
    {
     "data": {
      "image/png": "[encoded data removed]",
      "text/plain": [
       "<Figure size 720x720 with 1 Axes>"
      ]
     },
     "metadata": {},
     "output_type": "display_data"
    }
   ],
   "source": [
    "# seu código aqui\n",
    "spNome = input(\"Qual o nome da espécie?\")\n",
    "\n",
    "m = criaMapa(spNome)\n",
    "plotaFiguraMapa(m)"
   ]
  }
 ],
 "metadata": {
  "kernelspec": {
   "display_name": "Python 3",
   "language": "python",
   "name": "python3"
  },
  "language_info": {
   "codemirror_mode": {
    "name": "ipython",
    "version": 3
   },
   "file_extension": ".py",
   "mimetype": "text/x-python",
   "name": "python",
   "nbconvert_exporter": "python",
   "pygments_lexer": "ipython3",
   "version": "3.6.5"
  },
  "toc": {
   "base_numbering": 1,
   "nav_menu": {},
   "number_sections": false,
   "sideBar": true,
   "skip_h1_title": false,
   "title_cell": "Conteúdos",
   "title_sidebar": "Contents",
   "toc_cell": true,
   "toc_position": {},
   "toc_section_display": true,
   "toc_window_display": false
  }
 },
 "nbformat": 4,
 "nbformat_minor": 2
}
