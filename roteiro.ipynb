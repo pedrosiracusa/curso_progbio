{
 "cells": [
  {
   "cell_type": "markdown",
   "metadata": {},
   "source": [
    "<img src=\"docs/img/cbvs_logo.png\">\n",
    "\n",
    "# <center>Introdução à Lógica de Programação</center><a class=\"tocSkip\"></a>\n",
    "##  <center>Um roteiro prático para as Ciências da Conservação</center><a class=\"tocSkip\"></a>\n",
    "\n",
    "---\n",
    "##### <center>Instrutor: <a href=\"https://pedrosiracusa.github.io\" target=\"_blank\">Pedro C. de Siracusa</a></center><a class=\"tocSkip\"></a>"
   ]
  },
  {
   "cell_type": "markdown",
   "metadata": {
    "toc": true
   },
   "source": [
    "<h1>Conteúdos<span class=\"tocSkip\"></span></h1>\n",
    "<div class=\"toc\"><ul class=\"toc-item\"><li><span><a href=\"#Conceitos-iniciais\" data-toc-modified-id=\"Conceitos-iniciais-1\">Conceitos iniciais</a></span><ul class=\"toc-item\"><li><span><a href=\"#Tipos-e-Valores\" data-toc-modified-id=\"Tipos-e-Valores-1.1\">Tipos e Valores</a></span></li><li><span><a href=\"#Operadores-e-Expressões\" data-toc-modified-id=\"Operadores-e-Expressões-1.2\">Operadores e Expressões</a></span></li><li><span><a href=\"#Variáveis\" data-toc-modified-id=\"Variáveis-1.3\">Variáveis</a></span></li><li><span><a href=\"#Funções\" data-toc-modified-id=\"Funções-1.4\">Funções</a></span></li></ul></li><li><span><a href=\"#Projeto:-Monitoramento-de-mamíferos-no-PNB\" data-toc-modified-id=\"Projeto:-Monitoramento-de-mamíferos-no-PNB-2\">Projeto: Monitoramento de mamíferos no PNB</a></span><ul class=\"toc-item\"><li><span><a href=\"#Lendo-o-conteúdo-dos-arquivos\" data-toc-modified-id=\"Lendo-o-conteúdo-dos-arquivos-2.1\">Lendo o conteúdo dos arquivos</a></span></li><li><span><a href=\"#Explorando-os-diretórios-e-registros\" data-toc-modified-id=\"Explorando-os-diretórios-e-registros-2.2\">Explorando os diretórios e registros</a></span><ul class=\"toc-item\"><li><span><a href=\"#Listas\" data-toc-modified-id=\"Listas-2.2.1\">Listas</a></span></li><li><span><a href=\"#Estruturas-de-Repetição:-Loops\" data-toc-modified-id=\"Estruturas-de-Repetição:-Loops-2.2.2\">Estruturas de Repetição: Loops</a></span></li><li><span><a href=\"#Desafio-1.-Exportando-os-dados-para-CSV\" data-toc-modified-id=\"Desafio-1.-Exportando-os-dados-para-CSV-2.2.3\">Desafio 1. Exportando os dados para CSV</a></span></li></ul></li><li><span><a href=\"#Representando-o-Grid-experimental\" data-toc-modified-id=\"Representando-o-Grid-experimental-2.3\">Representando o Grid experimental</a></span></li><li><span><a href=\"#Criando-o-grid\" data-toc-modified-id=\"Criando-o-grid-2.4\">Criando o grid</a></span></li><li><span><a href=\"#Mapeando-as-câmeras-no-grid\" data-toc-modified-id=\"Mapeando-as-câmeras-no-grid-2.5\">Mapeando as câmeras no grid</a></span></li><li><span><a href=\"#Registrando-ocorrências-de-espécies-no-grid\" data-toc-modified-id=\"Registrando-ocorrências-de-espécies-no-grid-2.6\">Registrando ocorrências de espécies no grid</a></span><ul class=\"toc-item\"><li><span><a href=\"#Estruturas-Condicionais\" data-toc-modified-id=\"Estruturas-Condicionais-2.6.1\">Estruturas Condicionais</a></span><ul class=\"toc-item\"><li><span><a href=\"#A-construção-if\" data-toc-modified-id=\"A-construção-if-2.6.1.1\">A construção <em>if</em></a></span></li><li><span><a href=\"#A-construção-if-else\" data-toc-modified-id=\"A-construção-if-else-2.6.1.2\">A construção <em>if else</em></a></span></li></ul></li><li><span><a href=\"#Desafio-2.-Listando-as-espécies-registradas\" data-toc-modified-id=\"Desafio-2.-Listando-as-espécies-registradas-2.6.2\">Desafio 2. Listando as espécies registradas</a></span></li></ul></li><li><span><a href=\"#Visualizando-seu-mapa\" data-toc-modified-id=\"Visualizando-seu-mapa-2.7\">Visualizando seu mapa</a></span></li><li><span><a href=\"#Construindo-a-aplicação-final\" data-toc-modified-id=\"Construindo-a-aplicação-final-2.8\">Construindo a aplicação final</a></span></li></ul></li></ul></div>"
   ]
  },
  {
   "cell_type": "markdown",
   "metadata": {},
   "source": [
    "---"
   ]
  },
  {
   "cell_type": "markdown",
   "metadata": {},
   "source": [
    "Olá! Bem-vindo ao roteiro prático de programação para as Ciências da Conservação!\n",
    "Minha intenção com este material é introduzir, de maneira contextualizada, os conceitos mais fundamentais sobre **programação de computadores**.\n",
    "Para tornar o assunto mais interessante para profissionais e estudantes interessados nas Ciências da Conservação da Biodiversidade, utilizaremos como base um típico **problema motivador**."
   ]
  },
  {
   "cell_type": "markdown",
   "metadata": {},
   "source": [
    "#### O ambiente *Jupyter Notebook*<a class=\"tocSkip\"></a>"
   ]
  },
  {
   "cell_type": "markdown",
   "metadata": {},
   "source": [
    "Antes de começarmos, vale uma explicação sobre este documento que você está lendo.\n",
    "Na verdade, ele é um **ambiente de programação** chamado *Jupyter Notebook*, e é atualmente muito utilizado por profissionais que trabalham com análise de dados.\n",
    "O motivo de sua ampla adoção é que ele oferece um conjunto de utilidades que (i) facilitam nosso trabalho enquanto escrevemos código; (ii) permitem documentar nosso trabalho, com texto, de forma bastante dinâmica.\n",
    "Por trás dele há um **interpretador** da linguagem *Python* em execução, um programinha que fica responsável por \"interpretar\" o código que escrevemos e \"traduzi-lo\" para instruções que o computador possa processar e executar.\n",
    "\n",
    "O ambiente *notebook* é composto por **células**, em que podemos inserir código ou texto (como este que você está lendo). \n",
    "As **células de código** (você verá a palavra \"*In*\" ao lado) podem ser executadas, mostrando logo abaixo o resultado da execução.\n",
    "Já as **células de texto** não geram saída. Elas apenas renderizam o texto no formato *markdown*.\n",
    "Você poderá criar, excluir, mover, editar células como bem desejar. E o resultado ficará guardado no seu documento, caso você queira consultar depois. Você pode até mesmo gerar um pdf e imprimi-lo!\n",
    "\n",
    "No entanto, o *Jupyter Notebook* tem um caráter bastante **experimental**. Isso significa que ele serve muito bem para testar ideias, mas raramente construiremos programas complexos com ele. Para isso, utilizaríamos uma IDE (*Integrated Development Environment*), como por exemplo o [Visual Studio Code](https://code.visualstudio.com/). Mas vamos deixar este assunto para outro momento... \n",
    "Afinal, o que importa agora é começar a programar!\n",
    "Vamos então primeiramente passar por alguns conceitos fundamentais."
   ]
  },
  {
   "cell_type": "markdown",
   "metadata": {},
   "source": [
    "# Conceitos iniciais"
   ]
  },
  {
   "cell_type": "markdown",
   "metadata": {},
   "source": [
    "## Tipos e Valores"
   ]
  },
  {
   "cell_type": "markdown",
   "metadata": {},
   "source": [
    "**Tipos** são abstrações fundamentais nas linguagens de programação que nos permitem representar **elementos de informação**, por meio dos quais o programador pode representar coisas ou conceitos do mundo físico. \n",
    "O tipo serve para agrupar o pedaço informação em uma \"forma genérica\", adicionando semantica à informação.\n",
    "Já o **valor** é o elemento da informação em si.\n",
    "É comum dizer que \"um valor de tal tipo\".\n",
    "\n",
    "Por exemplo, você poderia usar um número para representar a área de uma reserva natural, em hectares.\n",
    "Ou mesmo para representar o tamanho populacional de alguma espécie que ocorre nele, em número de indivíduos.\n",
    "Neste caso, usamos um mesmo **tipo** (numérico) para representar cada um destes dois **valores** (veremos abaixo que existe mais de um tipo numérico). "
   ]
  },
  {
   "cell_type": "markdown",
   "metadata": {},
   "source": [
    "Cada linguagem possui um conjunto de *tipos primitivos* (ou fundamentais).\n",
    "Vamos então conhecer os principais tipos primitivos, que já vêm definidos na linguagem *Python*:\n",
    "\n",
    "* Tipos **numéricos**:\n",
    " * **Integer** (inteiros): Permite representar números inteiros, por exemplo `4`.\n",
    " * **Float** (ponto flutuante): Permite representar números com parte decimal, por exemplo `42.5`.\n",
    "\n",
    "* **String**: Permite representar informação na forma de texto, por exemplo `\"Palavra\"` ou `\"C\"`. Usamos aspas (duplas ou simples) para representar informação textual. \n",
    "\n",
    "* **Boolean**: Representa informação lógica binária, podendo assumir apenas dois valores: `True` ou `False`. \n",
    "\n",
    "**Obs:** Em muitas outras linguagens de programação existe também o tipo caractere (ou char). Porém, em *Python* um caractere é representado como uma string de comprimento 1."
   ]
  },
  {
   "cell_type": "code",
   "execution_count": null,
   "metadata": {},
   "outputs": [],
   "source": []
  },
  {
   "cell_type": "markdown",
   "metadata": {},
   "source": [
    "## Operadores e Expressões"
   ]
  },
  {
   "cell_type": "markdown",
   "metadata": {},
   "source": [
    "**Operadores** são os símbolos que especificam as computações mais fundamentais, como por exemplo soma, subtração, multiplicação e divisão. Sempre que aplicamos um operador sobre dois operandos, esperamos obter algum resultado imediatamente. Podemos combinar vários operadores e operandos, construindo assim **expressões**. Veja na tabela abaixo os principais operadores numéricos da linguagem *Python*."
   ]
  },
  {
   "cell_type": "markdown",
   "metadata": {},
   "source": [
    "| Operação| Operador| Exemplo | Resultado\n",
    "|:-|---|-:|--|\n",
    "| Soma      | `+` | `9 + 7` | `16` |\n",
    "| Subtração | `-` | `9 - 7` | `2` |\n",
    "| Multiplicação | `*` | `9 * 7` | `63` |\n",
    "| Divisão | `/` | `5 / 2`| `2.5` | \n",
    "| Divisão inteira | `//` | `5 // 2`| `2` | \n",
    "| Exponenciação | `**` | `9**2` | `81` |\n",
    "| Módulo | `%` | `9 % 2` | `1` |\n"
   ]
  },
  {
   "cell_type": "markdown",
   "metadata": {},
   "source": [
    "Portanto uma das formas mais básicas de se utilizar o interpretador é como uma calculadora "
   ]
  },
  {
   "cell_type": "code",
   "execution_count": null,
   "metadata": {},
   "outputs": [],
   "source": []
  },
  {
   "cell_type": "markdown",
   "metadata": {},
   "source": [
    "## Variáveis"
   ]
  },
  {
   "cell_type": "markdown",
   "metadata": {},
   "source": [
    "Quando estamos programando, frequentemente precisamos armazenar valores obtidos em etapas anteriores em memória.\n",
    "Assim, podemos re-utilizar estes valores sem precisar repetir todo o código.\n",
    "Linguagens de programação oferecem uma maneira bastante intuitiva para isso, por meio de **variáveis**.\n",
    "O símbolo que usamos para **atribuir** valores a variáveis é o sinal de igual (`=`). Na linguagem *Python*, uma variável é criada assim que atribuímos algum valor a ela.\n",
    "Pense em uma variável como uma \"caixinha\" que guarda valores.\n",
    "\n",
    "**obs:** O nome da variável sempre deve ser escrito à esquerda do símbolo `=`, e o valor a ser atribuído à variável, à direita."
   ]
  },
  {
   "cell_type": "code",
   "execution_count": null,
   "metadata": {},
   "outputs": [],
   "source": []
  },
  {
   "cell_type": "markdown",
   "metadata": {},
   "source": [
    "## Funções"
   ]
  },
  {
   "cell_type": "markdown",
   "metadata": {},
   "source": [
    "Funções são construções que **encapsulam** um determinado comportamento que se espera executar múltiplas vezes durante a execução de um programa. São rotinas, que podem ter sido definidas pelo próprio programador ou por outros programadores.\n",
    "Elas simplificam bastante o trabalho do programador, por esconder partes de código complexo, que não necessariamente seriam úteis naquele momento. O programador só precisa saber o que a função faz: que tipos de coisas deve fornecer como **entrada** (*input*) e o que deve esperar receber como **saída** (*output*).\n",
    "\n",
    "<img src=\"img/functions.png\">"
   ]
  },
  {
   "cell_type": "markdown",
   "metadata": {},
   "source": [
    "Resumindo, funções facilitam sua vida por dois motivos principais. \n",
    "\n",
    "1. Permitem ao programador **abstrair** computações, sem precisar se preocupar a todo momento sobre os mínimos detalhes de como elas são de fato realizadas. Imagine se você tivesse que se preocupar com os detalhes sobre como um texto é imprimido na tela de seu computador toda vez que você precisasse desta funcionalidade... Felizmente a função `print`, que utilizamos no nosso programa \"Hello World\", permite que esta rotina seja abstraída para você, o que facilita bastante seu aprendizado! \n",
    "\n",
    "2. Permitem **compartilhar** e **reutilizar** código. Se você construir uma função que possa ajudar outras pessoas também, por que não compartilhar? Isso acontece bastante na comunidade de programadores, e os ajuda a não ficar \"reinventando a roda\" quando precisam de alguma funcionalidade que já foi implementada por alguém. "
   ]
  },
  {
   "cell_type": "code",
   "execution_count": null,
   "metadata": {},
   "outputs": [],
   "source": []
  },
  {
   "cell_type": "markdown",
   "metadata": {},
   "source": [
    "---"
   ]
  },
  {
   "cell_type": "markdown",
   "metadata": {},
   "source": [
    "# Projeto: Monitoramento de mamíferos no PNB"
   ]
  },
  {
   "cell_type": "markdown",
   "metadata": {},
   "source": [
    "##### Contextualização\n",
    "\n",
    "Você está participando de um levantamento dos mamíferos que ocorrem no *Parque Nacional de Brasília* e está utilizando [armadilhas fotográficas](http://www.euquerobiologia.com.br/2012/02/armadilhas-fotograficas-para-estudo-de.html) (*camera traps*) para obter os registros. No experimento o território estudado foi dividido em um *grid* de 100 células (10x10), cada qual contendo uma armadilha. A Figura 1 ilustra a disposição das câmeras no grid."
   ]
  },
  {
   "cell_type": "markdown",
   "metadata": {},
   "source": [
    "<img src=\"img/trapcams_diagram.png\">"
   ]
  },
  {
   "cell_type": "markdown",
   "metadata": {},
   "source": [
    "Cada armadilha grava cada registro em um arquivo separado no cartão de memória, que são copiados para seu computador quando sua equipe vai a campo fazer as revisões. Para manter a organização sua equipe resolveu guardar os registros de cada câmera em diretórios separados, que levam o nome da câmera. Ao final do levantamento você precisará gerar um mapa de ocorrência das espécies, que indicará quais espécies foram registradas em quais áreas. Seus colegas sugeriram que você analisasse cada um dos arquivos das 100 câmeras a cada revisão e adicionasse os novos dados a uma planilha no *Excel*. Mas como você já conhece um pouco sobre programação sabe que existe uma maneira muito mais prática de fazer este trabalho. Você quer desenvolver uma aplicação que receba do usuário o nome de uma espécie e automaticamente mostre o mapa da distribuição daquela espécie no grid."
   ]
  },
  {
   "cell_type": "markdown",
   "metadata": {},
   "source": [
    "##### Desenvolvimento"
   ]
  },
  {
   "cell_type": "markdown",
   "metadata": {},
   "source": [
    "Inicialmente precisaremos extrair os registros de cada um dos arquivos em cada câmera. Os arquivos estão no diretório `./ctraps`, separados em subdiretórios para cada uma das 100 câmeras. A notação `./` significa \"diretório atual\". Sendo assim, `./ctraps` se refere ao subdiretório chamado `ctraps` localizado no diretório em que estamos trabalhando atualmente. Para cada diretório referente a cada câmera existem arquivos que contêm registros de espécies. Por exemplo no diretório `./ctraps/cam013` existem quatro arquivos `REC1.txt`, `REC2.txt`, `REC3.txt` e `REC4.txt`, cada um contendo o nome de uma espécie. Vejamos a seguir como percorrer diretórios e ler/escrever arquivos no sistema."
   ]
  },
  {
   "cell_type": "markdown",
   "metadata": {},
   "source": [
    "> **Obs**: Se você está em sistema operacional *Microsoft Windows* diretórios são representados com \"`\\`\" no lugar de \"`/`\". No ambiente *Python*, entretanto, você pode continuar usando a representação adotada em sistemas *UNIX* \"`/`\"."
   ]
  },
  {
   "cell_type": "markdown",
   "metadata": {},
   "source": [
    "Vamos então nos certificar que o diretório com os arquivos de registro de câmeras trap já estão no nosso diretório de trabalho. Veja a célula abaixo."
   ]
  },
  {
   "cell_type": "code",
   "execution_count": 13,
   "metadata": {},
   "outputs": [],
   "source": [
    "# Se estiver em ambiente Google Colab, descomente e execute o comando abaixo para importar os dados\n",
    "\n",
    "# !git clone https://github.com/pedrosiracusa/prog_conservacao.git && cp -r prog_conservacao/data/ctraps ./data2 && rm -r prog_conservacao"
   ]
  },
  {
   "cell_type": "markdown",
   "metadata": {},
   "source": [
    "## Lendo o conteúdo dos arquivos"
   ]
  },
  {
   "cell_type": "markdown",
   "metadata": {},
   "source": [
    "O primeiro passo para resolver nosso problema é saber como trabalhar com arquivos.\n",
    "Na linguagem *Python* esta tarefa é bastante simples!"
   ]
  },
  {
   "cell_type": "markdown",
   "metadata": {},
   "source": [
    "##### Para ler um arquivo\n",
    "Utilize a função **`open`**, que recebe como *input* o caminho (*path*) para o arquivo e fornece como *output* uma referência ao arquivo aberto (*file handle*).\n",
    "\n",
    "**Obs:** **Nunca** se equeça de fechar um arquivo depois de trabalhar com ele! Utilize o método `f.close()`, sendo `f` a referência ao arquivo!"
   ]
  },
  {
   "cell_type": "code",
   "execution_count": null,
   "metadata": {},
   "outputs": [],
   "source": []
  },
  {
   "cell_type": "markdown",
   "metadata": {},
   "source": [
    "A função [`open`](https://docs.python.org/3/library/functions.html#open) é utilizada tanto para a leitura quanto para a escrita de arquivos. Uma vez que um arquivo é aberto o programador pode operar sobre ele, utilizando uma série de [**métodos**](https://docs.python.org/3/tutorial/inputoutput.html#methods-of-file-objects)."
   ]
  },
  {
   "cell_type": "markdown",
   "metadata": {},
   "source": [
    "> O conceito de **métodos** está além dos objetivos desta aula, portanto para simplificar seu entendimento considere que eles se comportam como funções. Para identificá-los perceba que métodos são sempre precedidos por um ponto em *Python*. Caso você queira entender um pouco mais sobre eles comece pesquisando sobre [**programação orientada a objetos**](http://www.devmedia.com.br/os-4-pilares-da-programacao-orientada-a-objetos/9264)."
   ]
  },
  {
   "cell_type": "markdown",
   "metadata": {},
   "source": [
    "Aprendemos a ler um arquivo.\n",
    "Agora, como fazer para navegar todas as câmeras e ler cada um de seus registros? São 100 câmeras! Repetir este código mais de 100 vezes seria extremamente trabalhoso!\n",
    "\n",
    "É verdade! Mas na verdade escreveremos este código apenas uma vez, graças às **estruturas de repetição**! Mas antes vamos ver como explorar os diretórios."
   ]
  },
  {
   "cell_type": "markdown",
   "metadata": {},
   "source": [
    "## Explorando os diretórios e registros"
   ]
  },
  {
   "cell_type": "markdown",
   "metadata": {},
   "source": [
    "Sistemas operacionais diferentes armazenam arquivos usando *sistemas de arquivos* distintos. O *Python* possui funcionalidades para abstrair estas particularidades e fornece ao programador um conjunto de funcionalidades para realizar leitura e escrita de arquivos de forma transparente, independentemente da plataforma que está utilizando (*Windows*, *MacOS* ou *Linux*). Estas funcionalidades estão no **módulo** [`os`](https://docs.python.org/3/library/os.html#module-os) (OS de *Operating System*, ou sistema operacional). Para utilizá-las precisamos **importar** o módulo."
   ]
  },
  {
   "cell_type": "markdown",
   "metadata": {},
   "source": [
    "> **Módulos** são arquivos de código (extensão `.py`) que possuem definições e declarações de funções, variáveis ou configurações. São utilizados para tornar o código reutilizável, reunindo funcionalidades auto-suficientes e facilmente \"plugáveis\". Veja o [índice de módulos](https://docs.python.org/3/py-modindex.html) do *Python*. Conjuntos de módulos que servem para uma finalidade comum podem ser agrupados em **pacotes**. Pacotes podem ser pensados como diretórios que reúnem módulos. Quando queremos utilizar um módulo precisamos **importá-lo**, utilizando para isso a palavra `import`."
   ]
  },
  {
   "cell_type": "markdown",
   "metadata": {},
   "source": [
    "Vejamos como percorrer a árvore de arquivos e diretórios que se encontram sob um diretório de origem (chamado **diretório-raiz**). A função [`listdir`](https://docs.python.org/3/library/os.html#os.listdir) do módulo `os` lista arquivos e subdiretórios de um determinado diretório-raiz. Como `listdir` pertence ao módulo importado `os`, para invocá-la precisamos informar isto explicitamente e usar a notação `os.listdir()`."
   ]
  },
  {
   "cell_type": "code",
   "execution_count": 15,
   "metadata": {},
   "outputs": [],
   "source": [
    "import os # o módulo precisa ser importado apenas uma vez durante a sessão"
   ]
  },
  {
   "cell_type": "code",
   "execution_count": null,
   "metadata": {},
   "outputs": [],
   "source": []
  },
  {
   "cell_type": "markdown",
   "metadata": {},
   "source": [
    "A função `listdir` retorna o resultado em uma estrutura nativa do *Python* chamada **lista**!\n",
    "Antes de prosseguir, vamos entender um pouco mais como as listas funcionam!"
   ]
  },
  {
   "cell_type": "markdown",
   "metadata": {},
   "source": [
    "### Listas"
   ]
  },
  {
   "cell_type": "markdown",
   "metadata": {},
   "source": [
    "**Listas** são representadas pelo tipo *list*, e permitem armazenar um conjunto de valores em uma única estrutura! Cada elemento ocupando uma posição dentro da lista é chamado de **item** (ou **elemento**). O número de itens que uma lista armazena é referido como seu **comprimento**. A princípio não há limites para o comprimento de uma lista, embora listas grandes demais certamente exigem mais recursos computacionais, podendo se tornar intratáveis.  Outra característica importante das listas é que elas permitem armazenar itens de tipos diferentes dentro de uma mesma estrutura (embora seja mais usual armazenar itens do mesmo tipo). Podemos por exemplo armazenar dentro de uma única lista *strings*, *booleanos*, *inteiros*, *floats*, e até outras *listas*!"
   ]
  },
  {
   "cell_type": "markdown",
   "metadata": {},
   "source": [
    "<img src=\"img/lists.png\" width=\"400px\">"
   ]
  },
  {
   "cell_type": "markdown",
   "metadata": {},
   "source": [
    "Na ilustração acima, temos uma lista de comprimento 5, armazenando itens de tipos diferentes. Cada item da lista ocupa um espaço próprio, representado como um \"quadradinho\". Os números abaixo de cada quadrado representam os **índices** de cada item na lista. Os índices nada mais são que endereços numéricos, que nos permitem referenciar elementos em cada posição na lista. Por exemplo, se quisermos nos referir ao número 42, indicaremos o índice (ou endereço) 2.\n",
    "\n",
    "**Obs:** Em *Python*, a numeração dos índices começa em zero, e portanto o primeiro elemento se encontra na posição 0. Da mesma forma, o último item de uma lista de comprimento $n$ se encontra na posição $n-1$."
   ]
  },
  {
   "cell_type": "markdown",
   "metadata": {},
   "source": [
    "Para construir uma lista vazia"
   ]
  },
  {
   "cell_type": "code",
   "execution_count": null,
   "metadata": {},
   "outputs": [],
   "source": []
  },
  {
   "cell_type": "markdown",
   "metadata": {},
   "source": [
    "Para construir uma lista pré populada com $n$ elementos iguais"
   ]
  },
  {
   "cell_type": "code",
   "execution_count": null,
   "metadata": {},
   "outputs": [],
   "source": []
  },
  {
   "cell_type": "markdown",
   "metadata": {},
   "source": [
    "Para construir uma lista pré-populada"
   ]
  },
  {
   "cell_type": "code",
   "execution_count": null,
   "metadata": {},
   "outputs": [],
   "source": []
  },
  {
   "cell_type": "markdown",
   "metadata": {},
   "source": [
    "Para resgatar elementos de dentro dela"
   ]
  },
  {
   "cell_type": "code",
   "execution_count": null,
   "metadata": {},
   "outputs": [],
   "source": []
  },
  {
   "cell_type": "markdown",
   "metadata": {},
   "source": [
    "Para mudar um elemento dentro da lista"
   ]
  },
  {
   "cell_type": "code",
   "execution_count": null,
   "metadata": {},
   "outputs": [],
   "source": []
  },
  {
   "cell_type": "markdown",
   "metadata": {},
   "source": [
    "Para adicionar elementos na lista"
   ]
  },
  {
   "cell_type": "code",
   "execution_count": null,
   "metadata": {},
   "outputs": [],
   "source": []
  },
  {
   "cell_type": "markdown",
   "metadata": {},
   "source": [
    "Para verificar se um dado elemento existe na lista"
   ]
  },
  {
   "cell_type": "code",
   "execution_count": null,
   "metadata": {},
   "outputs": [],
   "source": []
  },
  {
   "cell_type": "markdown",
   "metadata": {},
   "source": [
    "Para concatenar listas"
   ]
  },
  {
   "cell_type": "code",
   "execution_count": null,
   "metadata": {},
   "outputs": [],
   "source": []
  },
  {
   "cell_type": "markdown",
   "metadata": {},
   "source": [
    "Para recortar listas (*slicing*)"
   ]
  },
  {
   "cell_type": "code",
   "execution_count": null,
   "metadata": {},
   "outputs": [],
   "source": []
  },
  {
   "cell_type": "markdown",
   "metadata": {},
   "source": [
    "E se quiséssemos processar cada um dos elementos da lista? Seria possível percorrê-los programaticamente? Sim, por meio dos loops!"
   ]
  },
  {
   "cell_type": "markdown",
   "metadata": {},
   "source": [
    "### Estruturas de Repetição: Loops"
   ]
  },
  {
   "cell_type": "markdown",
   "metadata": {},
   "source": [
    "**Loops** (em português \"laços de repetição\") são estruturas que garantem que uma parte do código seja repetida múltiplas vezes.  Existem dois tipos fundamentais de loops: (i) ***for* loops** e (ii) ***while* loops**. Pela limitação de tempo, veremos apenas o primeiro tipo neste curso."
   ]
  },
  {
   "cell_type": "markdown",
   "metadata": {},
   "source": [
    "Loops \"*for*\" são muito úteis quando queremos percorrer programaticamente **estruturas iteráveis**, como por exemplo as listas.\n",
    "Sua estrutura é composta por:\n",
    "\n",
    "* uma **variável de iteração** (normalmente chamada `i` ou `j`, mas poderia ser qualquer outro nome);\n",
    "* a **lista** (ou qualquer outra estrutura iterável) contendo os elementos que desejamos percorrer. \n",
    "\n",
    "**Obs:** Chamamos de **iteração** cada \"repetição\" do loop. Ou seja, um loop com 10 iterações será percorrido 10 vezes. "
   ]
  },
  {
   "cell_type": "code",
   "execution_count": null,
   "metadata": {},
   "outputs": [],
   "source": []
  },
  {
   "cell_type": "markdown",
   "metadata": {},
   "source": [
    "A função `range` gera uma sequência de números, que pode ser percorrida num loop ou transformada em uma lista se passada como argumento para a função `list`"
   ]
  },
  {
   "cell_type": "code",
   "execution_count": null,
   "metadata": {},
   "outputs": [],
   "source": []
  },
  {
   "cell_type": "markdown",
   "metadata": {},
   "source": [
    "**Loops aninhados**: Podemos construir loops dentro de loops! Neste caso precisamos usar duas variáveis de iteração distintas."
   ]
  },
  {
   "cell_type": "code",
   "execution_count": null,
   "metadata": {},
   "outputs": [],
   "source": []
  },
  {
   "cell_type": "markdown",
   "metadata": {},
   "source": [
    "### Voltando ao projeto...<a class=\"tocSkip\"></a>"
   ]
  },
  {
   "cell_type": "markdown",
   "metadata": {},
   "source": [
    "Agora que já sabemos **iterar** (navegar) a lista de diretórios que representam as câmeras, vamos imprimir seus nomes no console."
   ]
  },
  {
   "cell_type": "code",
   "execution_count": null,
   "metadata": {},
   "outputs": [],
   "source": []
  },
  {
   "cell_type": "markdown",
   "metadata": {},
   "source": [
    "E se quiséssemos extrair a parte numérica do nome de cada câmera? Vamos tentar?"
   ]
  },
  {
   "cell_type": "markdown",
   "metadata": {},
   "source": [
    "Vamos criar nossa primeira função, chamada `numeroCamera`. Ela deverá receber como entrada o nome da câmera (será do tipo *string*), extrair e retornar a parte numérica do nome como um número inteiro (tipo *int*).\n",
    "**Obs**: Vamos guardar esta função pois ela será utilizada mais tarde!"
   ]
  },
  {
   "cell_type": "code",
   "execution_count": 30,
   "metadata": {},
   "outputs": [],
   "source": [
    "def numeroCamera(nomeCamera):\n",
    "    '''Retorna a parte numérica (inteiro) do nome da câmera'''\n",
    "    # seu código aqui\n",
    "    return "
   ]
  },
  {
   "cell_type": "code",
   "execution_count": null,
   "metadata": {},
   "outputs": [],
   "source": []
  },
  {
   "cell_type": "markdown",
   "metadata": {},
   "source": [
    "E se quisermos listar as **espécies** registradas por cada câmera? Podemos usar um loop dentro de outro (**loop aninhado**)."
   ]
  },
  {
   "cell_type": "code",
   "execution_count": null,
   "metadata": {
    "scrolled": true
   },
   "outputs": [],
   "source": []
  },
  {
   "cell_type": "markdown",
   "metadata": {},
   "source": [
    "Este código também será reutilizado algumas vezes durante a nossa aplicação.\n",
    "Portanto, para evitar reescrevê-lo, vamos organizá-lo dentro de uma função."
   ]
  },
  {
   "cell_type": "markdown",
   "metadata": {},
   "source": [
    "Vamos definir a função `buscaRegistros` que, como o nome sugere, retornará os registros para dada câmera. \n",
    "Ela deve receber como entrada o nome de uma câmera e retornar uma **lista** contendo os nomes das espécies registradas."
   ]
  },
  {
   "cell_type": "code",
   "execution_count": 70,
   "metadata": {},
   "outputs": [],
   "source": [
    "# Retorna uma lista com os nomes das espécies registradas por uma camera\n"
   ]
  },
  {
   "cell_type": "markdown",
   "metadata": {},
   "source": [
    "Vamos agora construir um código para percorrer todas as câmeras e, para cada uma delas, imprimir seu nome e as espécies por ela registrada.\n",
    "Use a função `buscaRegistros`, que acabamos de definir acima."
   ]
  },
  {
   "cell_type": "code",
   "execution_count": null,
   "metadata": {},
   "outputs": [],
   "source": []
  },
  {
   "cell_type": "markdown",
   "metadata": {},
   "source": [
    "Agora um desafio!"
   ]
  },
  {
   "cell_type": "markdown",
   "metadata": {},
   "source": [
    "### Desafio 1. Exportando os dados para CSV"
   ]
  },
  {
   "cell_type": "markdown",
   "metadata": {},
   "source": [
    "Caso quiséssemos inserir estes dados em uma rotina de análise, em nosso projeto de pesquisa, precisaríamos armazená-los de uma forma um pouco mais estruturada. Por exemplo, na forma de uma **tabela**!\n",
    "Assim, poderíamos explorá-los muito mais facilmente, por exemplo, com aplicativos de planilha eletrônica.\n",
    "Além disso, ficaria mais simples compartilhá-los com colegas.\n",
    "Uma forma simples de conseguir isso é criando um arquivo *CSV*."
   ]
  },
  {
   "cell_type": "markdown",
   "metadata": {},
   "source": [
    "Seu desafio será adaptar o algoritmo que acabamos de criar acima para construir um arquivo CSV contendo os dados.\n",
    "O código é quase o mesmo, com a diferença é que, em vez de simplesmente imprimir os dados no console, você deverá estruturá-los como um arquivo de texto.\n",
    "\n",
    "**Dica**: O arquivo CSV delimita colunas usando o caractere `','` (também poderia usar outros, mas vamos usar a vírgula aqui); e linhas usando o caractere especial `'\\n'` (conhecido como *newline*, pois indica uma quebra de linha)."
   ]
  },
  {
   "cell_type": "code",
   "execution_count": 71,
   "metadata": {},
   "outputs": [],
   "source": [
    "f = open('dados.csv','w')\n",
    "\n",
    "# seu código aqui\n",
    "    \n",
    "f.close()"
   ]
  },
  {
   "cell_type": "markdown",
   "metadata": {},
   "source": [
    "Legal! com o código que construímos até agora já podemos obter rapidamente a lista completa de registros feitos por cada câmera.\n",
    "Mas estes dados fazem mais sentido se espacializados, certo? \n",
    "Para isso, nosso próximo desafio é encontrar uma maneira de associar cada câmera a uma célula do grid experimental.\n",
    "Vem então a pergunta: como representar o grid no computador?"
   ]
  },
  {
   "cell_type": "markdown",
   "metadata": {},
   "source": [
    "## Representando o Grid experimental"
   ]
  },
  {
   "cell_type": "markdown",
   "metadata": {},
   "source": [
    "Nesta etapa do projeto criaremos uma representação do nosso **grid experimental**, para que possamos armazenar as informações de ocorrência das espécies. Já sabemos construir listas de espécies, mas como representar a espacialização das células do nosso grid (por exemplo, é importante representar, além de cada célula individual, quais são suas vizinhas)."
   ]
  },
  {
   "cell_type": "markdown",
   "metadata": {},
   "source": [
    "Pois bem, uma forma intuitiva de representar nosso grid experimental é por meio de uma matriz de dimensão $10 \\times 10$ (ou seja, 10 linhas e 10 colunas).\n",
    "Nesta matriz, cada elemento $a_{i,j}$ representará uma célula do grid."
   ]
  },
  {
   "cell_type": "markdown",
   "metadata": {},
   "source": [
    "$$\n",
    "M=\n",
    "  \\begin{bmatrix}\n",
    "    a_{1,1} & a_{1,2} & \\cdots & a_{1,10}  \\\\\n",
    "    a_{2,1} & a_{2,2} & \\cdots & a_{2,10} \\\\\n",
    "    \\vdots  & \\vdots  & \\cdots & \\vdots \\\\\n",
    "    a_{10,1} & a_{10,2} & \\cdots & a_{10,10}  \\\\\n",
    "  \\end{bmatrix}\n",
    "$$\n"
   ]
  },
  {
   "cell_type": "markdown",
   "metadata": {},
   "source": [
    "No entanto, matrizes não são estruturas nativas na linguagem *Python*, o que significa que a linguagem por si só não oferece esta estrutura.\n",
    "Mas podemos contornar este problema usando **listas aninhadas**!"
   ]
  },
  {
   "cell_type": "markdown",
   "metadata": {},
   "source": [
    "Para exemplificar, vamos criar um grid pequeno com 9 células (dimensão $3\\times3$):"
   ]
  },
  {
   "cell_type": "code",
   "execution_count": null,
   "metadata": {},
   "outputs": [],
   "source": []
  },
  {
   "cell_type": "markdown",
   "metadata": {},
   "source": [
    "Usando a mesma notação de listas podemos facilmente recuperar"
   ]
  },
  {
   "cell_type": "markdown",
   "metadata": {},
   "source": [
    "*(i)* **linhas inteiras**"
   ]
  },
  {
   "cell_type": "code",
   "execution_count": null,
   "metadata": {},
   "outputs": [],
   "source": []
  },
  {
   "cell_type": "markdown",
   "metadata": {},
   "source": [
    "*(ii)* **elementos individuais**"
   ]
  },
  {
   "cell_type": "code",
   "execution_count": null,
   "metadata": {},
   "outputs": [],
   "source": []
  },
  {
   "cell_type": "markdown",
   "metadata": {},
   "source": [
    "**Obs:** Recuperar uma coluna inteira neste caso não é trivial como recuperar uma linha inteira. Não vamos abordar isto por enquanto."
   ]
  },
  {
   "cell_type": "markdown",
   "metadata": {},
   "source": [
    "## Criando o grid"
   ]
  },
  {
   "cell_type": "markdown",
   "metadata": {},
   "source": [
    "Poderíamos criar o grid manualmente (o que seria bastante trabalhoso, visto que teríamos que digitar 100 elementos).\n",
    "Não teria uma forma mais \"automática\"? \n",
    "Sim! Podemos usar loops!"
   ]
  },
  {
   "cell_type": "markdown",
   "metadata": {},
   "source": [
    "Vamos usar o seguinte algoritmo:\n",
    "\n",
    "1. Criar uma lista vazia (chamaremos de \"lista externa\")\n",
    "2. Percorrer um loop com 10 iterações, e em cada uma delas:\n",
    "   1. Adicionar uma nova lista vazia (a \"lista linha\") à lista externa, criada no passo 1\n",
    "   2. Percorrer um novo loop com 10 iterações, em cada um deles adicionando mais um elemento `0` na lista linha"
   ]
  },
  {
   "cell_type": "code",
   "execution_count": null,
   "metadata": {},
   "outputs": [],
   "source": []
  },
  {
   "cell_type": "markdown",
   "metadata": {},
   "source": [
    "**Obs:** O *Python* permite fazer a mesma tarefa usando um atalho:"
   ]
  },
  {
   "cell_type": "code",
   "execution_count": null,
   "metadata": {},
   "outputs": [],
   "source": []
  },
  {
   "cell_type": "markdown",
   "metadata": {},
   "source": [
    "Para finalizar esta parte, vamos encapsular nosso código em uma função `criaGrid`.\n",
    "Ela deve ter como parâmetros `n` e `m`, que correspondem, respectivamente, ao número de linhas e colunas do grid.\n",
    "Ela deve retornar o grid na forma de listas aninhadas, como fizemos acima."
   ]
  },
  {
   "cell_type": "code",
   "execution_count": 72,
   "metadata": {},
   "outputs": [],
   "source": [
    "# Cria um grid com n linhas e m colunas (todos os elementos são 0)\n"
   ]
  },
  {
   "cell_type": "markdown",
   "metadata": {},
   "source": [
    "Excelente! Agora seu grid está representado na memória do seu computador. Mas para produzir o mapa de ocorrência ainda precisamos informar, em cada célula do grid, se aquela espécie foi registrada ou não."
   ]
  },
  {
   "cell_type": "markdown",
   "metadata": {},
   "source": [
    "## Mapeando as câmeras no grid"
   ]
  },
  {
   "cell_type": "markdown",
   "metadata": {},
   "source": [
    "Agora que temos os grids com todas as células \"vazias\" (`0` representa não-ocorrência da espécie), precisamos encontrar uma maneira de preencher as ocorrências. A princípio, mudar um elemento do crid com base nas suas coordenadas `n` e `m` é trivial:"
   ]
  },
  {
   "cell_type": "code",
   "execution_count": null,
   "metadata": {},
   "outputs": [],
   "source": []
  },
  {
   "cell_type": "markdown",
   "metadata": {},
   "source": [
    "Mas no nosso problema, as câmeras estão numeradas de 0 a 100.\n",
    "Como mapear um número para uma coordenada?"
   ]
  },
  {
   "cell_type": "code",
   "execution_count": null,
   "metadata": {},
   "outputs": [],
   "source": []
  },
  {
   "cell_type": "markdown",
   "metadata": {},
   "source": [
    "Escreva uma função `camCoords` para encapsular o código que acabamos de escrever. Ou seja, ela retorna as coordenadas de uma câmera, a partir de seu número."
   ]
  },
  {
   "cell_type": "code",
   "execution_count": 73,
   "metadata": {},
   "outputs": [],
   "source": [
    "# Retorna as coordenadas de uma câmera a partir de seu número\n"
   ]
  },
  {
   "cell_type": "code",
   "execution_count": null,
   "metadata": {},
   "outputs": [],
   "source": []
  },
  {
   "cell_type": "markdown",
   "metadata": {},
   "source": [
    "Agora a função `registraOcorrencia` deve apenas marcar um `1` nas coordenadas da câmera passada como *input*"
   ]
  },
  {
   "cell_type": "code",
   "execution_count": 48,
   "metadata": {},
   "outputs": [],
   "source": [
    "# Marca como 1 o elemento nas coordenadas de uma câmera de número `camNum`\n"
   ]
  },
  {
   "cell_type": "code",
   "execution_count": 74,
   "metadata": {},
   "outputs": [],
   "source": [
    "# Como o grid está até agora\n"
   ]
  },
  {
   "cell_type": "code",
   "execution_count": 75,
   "metadata": {},
   "outputs": [],
   "source": [
    "# Registrando ocorrências nas câmeras 1,2 e 3\n"
   ]
  },
  {
   "cell_type": "code",
   "execution_count": 76,
   "metadata": {},
   "outputs": [],
   "source": [
    "# Como o grid ficou\n"
   ]
  },
  {
   "cell_type": "markdown",
   "metadata": {},
   "source": [
    "Ótimo! Agora já sabemos marcar ocorrências no grid.\n",
    "O problema é que até agora estas ocorrências não dizem respeito a nenhuma espécie em particular.\n",
    "Para resolver o nosso problema, devemos apenas marcar a ocorrência se a espécie que buscamos tiver sido registrada pela câmera."
   ]
  },
  {
   "cell_type": "markdown",
   "metadata": {},
   "source": [
    "## Registrando ocorrências de espécies no grid"
   ]
  },
  {
   "cell_type": "markdown",
   "metadata": {},
   "source": [
    "Vamos agora registrar a ocorrência das espécies no grid.\n",
    "Funcionará assim: Primeiro escolheremos uma espécie para montar o grid e, em seguida, nosso programa deverá percorrer cada uma das câmeras e verificar se a espécie procurada foi registrada por ela. Caso tenha sido, marcaremos `1` na respectiva célula no grid.\n",
    "Mas como podemos codificar este \"caso\" no nosso programa?\n",
    "\n",
    "Para isso vamos conhecer rapidamente as **estruturas condicionais**:"
   ]
  },
  {
   "cell_type": "markdown",
   "metadata": {},
   "source": [
    "### Estruturas Condicionais"
   ]
  },
  {
   "cell_type": "markdown",
   "metadata": {},
   "source": [
    "Estruturas condicionais permitem alterar o fluxo de execução de um programa através da verificação de **condições**, que podem ser codificadas em nosso programa por meio de **expressões lógicas**."
   ]
  },
  {
   "cell_type": "markdown",
   "metadata": {},
   "source": [
    "| Operador | Descrição |\n",
    "| -------- | --------- |\n",
    "| **Operadores de comparação** | |\n",
    "|    `==`  | `True` se valores de dois operandos são iguais |\n",
    "|    `!=`  | `True` se valores de dois operandos são diferentes |\n",
    "|    `<`  | `True` se valor do operando à esquerda é menor que o da direita |\n",
    "|    `<=`  | `True` se valor do operando à esquerda é menor ou igual ao da direita|\n",
    "|    `>`  | `True` se valor do operando à esquerda é maior que o da direita |\n",
    "|    `>=`  | `True` se valor do operando à esquerda é maior ou igual ao da direita |\n",
    "| **Operadores lógicos**| |\n",
    "|    `and`  | Operador lógico \"E\" |\n",
    "|    `or`  | Operador lógico \"OU\" |\n",
    "|    `not`  |Operador lógico \"NÃO\" |"
   ]
  },
  {
   "cell_type": "code",
   "execution_count": 77,
   "metadata": {},
   "outputs": [],
   "source": [
    "# Dados dois valores numéricos a e b\n"
   ]
  },
  {
   "cell_type": "code",
   "execution_count": 78,
   "metadata": {},
   "outputs": [],
   "source": [
    "# Dados dois valores lógicos a e b\n"
   ]
  },
  {
   "cell_type": "markdown",
   "metadata": {},
   "source": [
    "#### A construção *if*"
   ]
  },
  {
   "cell_type": "markdown",
   "metadata": {},
   "source": [
    "A construção `if` é a estrutura mais simples de escrevermos um bloco de código $A$ que somente deve ser executado caso uma determinada condição **seja satisfeita** (ou seja, avaliada como `True`). Caso contrário, o código $A$ é simplesmente ignorado."
   ]
  },
  {
   "cell_type": "markdown",
   "metadata": {},
   "source": [
    "<img src=\"img/conditionals_if.png\" width=400/>"
   ]
  },
  {
   "cell_type": "code",
   "execution_count": null,
   "metadata": {},
   "outputs": [],
   "source": []
  },
  {
   "cell_type": "markdown",
   "metadata": {},
   "source": [
    "#### A construção *if else*"
   ]
  },
  {
   "cell_type": "markdown",
   "metadata": {},
   "source": [
    "Um `if` pode ser associado a um `else`, contendo um bloco de código que é executado casa a condição do `if` **não seja satisfeita** (ou seja, avaliada como `False`).\n",
    " "
   ]
  },
  {
   "cell_type": "markdown",
   "metadata": {},
   "source": [
    "<img src=\"img/conditionals_ifelse.png\" width=400/>"
   ]
  },
  {
   "cell_type": "code",
   "execution_count": null,
   "metadata": {},
   "outputs": [],
   "source": []
  },
  {
   "cell_type": "markdown",
   "metadata": {},
   "source": [
    "Estas são as construções mais básicas, que são suficientes para os objetivos do nosso curso.\n",
    "Mas caso você continue estudando programação certamente vai aprender algumas variantes bastante úteis."
   ]
  },
  {
   "cell_type": "markdown",
   "metadata": {},
   "source": [
    "### Voltando ao projeto...<a class=\"tocSkip\"></a>"
   ]
  },
  {
   "cell_type": "markdown",
   "metadata": {},
   "source": [
    "Finalmente, vamos construir a função `ondeFoiRegistrado`.\n",
    "Recebe como *input* o nome da espécie a ser buscada, e retorna como *output* uma lista contendo os nomes das câmeras que a registraram.\n",
    "Na implementação desta função, devermos checar, na lista de registros de cada câmera, se a espécie que buscamos está presente. **Somente caso esteja** incluiremos o nome da câmera no resultado"
   ]
  },
  {
   "cell_type": "code",
   "execution_count": 79,
   "metadata": {},
   "outputs": [],
   "source": [
    "# Retorna os nomes das câmeras que registraram uma espécie\n"
   ]
  },
  {
   "cell_type": "markdown",
   "metadata": {},
   "source": [
    "Vejamos quais câmeras registraram a Onça-parda (*Puma concolor*)"
   ]
  },
  {
   "cell_type": "code",
   "execution_count": null,
   "metadata": {},
   "outputs": [],
   "source": []
  },
  {
   "cell_type": "markdown",
   "metadata": {},
   "source": [
    "E agora no grid:"
   ]
  },
  {
   "cell_type": "code",
   "execution_count": null,
   "metadata": {},
   "outputs": [],
   "source": []
  },
  {
   "cell_type": "markdown",
   "metadata": {},
   "source": [
    "Já temos a matriz de dados prontinha!\n",
    "Agora vamos construir a principal função do projeto: a função `criaMapa`, que deverá retornar uma matriz com as dimensões do grid experimental (10x10), sendo que cada elemento possuirá valor `1` caso a espécie ocorra em determinada célula; ou `0` caso contrário.\n",
    "\n",
    "Dado apenas o nome da espécie, ela deve se encarregar de fazer tudo: varrer os arquivos nos diretórios, buscar as câmeras que registraram a espécie, construir o grid e marcar as ocorrências nele.\n",
    "Como já construímos várias funções auxiliares ao longo do projeto, a implementação desta função deverá ser bastante simples."
   ]
  },
  {
   "cell_type": "code",
   "execution_count": 80,
   "metadata": {},
   "outputs": [],
   "source": [
    "# Retorna o mapa de ocorrência (um grid 10x10) para uma espécie\n"
   ]
  },
  {
   "cell_type": "markdown",
   "metadata": {},
   "source": [
    "Parabéns! Com um pouco de programação você automatizou o gerenciamento de seus dados de campo. A cada nova revisão do seu monitoramento é só re-executar seu código, desde que você continue mantendo o mesmo sistema de organização de arquivos e diretórios. De qualquer forma agora você poderá investir mais tempo em analisar seus resultados!"
   ]
  },
  {
   "cell_type": "markdown",
   "metadata": {},
   "source": [
    "Mas antes de prosseguirmos, vamos a outro desafio."
   ]
  },
  {
   "cell_type": "markdown",
   "metadata": {},
   "source": [
    "### Desafio 2. Listando as espécies registradas"
   ]
  },
  {
   "cell_type": "markdown",
   "metadata": {},
   "source": [
    "Uma aplicação simples do condicional `if` é construir uma lista sem elementos repetidos.\n",
    "Quantas espécies diferentes foram registradas, ao todo, no monitoramento?\n",
    "Obtenha uma lista de espécies registradas pelo menos uma vez.\n",
    "Fique atento para o fato de que sua lista **não deve conter nomes repetidos**.\n",
    "Por fim, salve esta lista de espécies em um arquivo de texto (*txt*)."
   ]
  },
  {
   "cell_type": "code",
   "execution_count": null,
   "metadata": {},
   "outputs": [],
   "source": []
  },
  {
   "cell_type": "markdown",
   "metadata": {},
   "source": [
    "---"
   ]
  },
  {
   "cell_type": "markdown",
   "metadata": {},
   "source": [
    "## Visualizando seu mapa"
   ]
  },
  {
   "cell_type": "markdown",
   "metadata": {},
   "source": [
    "Uma das qualidades que tornam a linguagem *Python* tão adequada para aplicações em análises de dados é a existência de bibliotecas de visualização, que facilitam muito o processo de exploração de dados e criação de figuras científicas. A principal biblioteca de visualização em *Python* chama-se [*Matplotlib*](https://matplotlib.org/), que traz todas as funcionalidades-base para a geração das figuras. O módulo [*pyplot*](https://matplotlib.org/api/pyplot_api.html) oferece ao usuário uma interface facilitada, com funções e rotinas que se assemelham ao ambiente *Matlab*. Por meio deste módulo podemos controlar uma série de parâmetros da figura, como tamanho, título, legendas, eixos, etc. Veja a [galeria de figuras](https://matplotlib.org/gallery.html) da *Matplotlib*."
   ]
  },
  {
   "cell_type": "markdown",
   "metadata": {},
   "source": [
    "Para gerar figuras no *Jupyter Notebook* precisamos importar as bibliotecas e módulos para a sessão:"
   ]
  },
  {
   "cell_type": "code",
   "execution_count": 64,
   "metadata": {},
   "outputs": [],
   "source": [
    "import matplotlib.pyplot as plt\n",
    "from matplotlib.colors import ListedColormap\n",
    "\n",
    "#esta linha de código diz ao Jupyter para plotar no próprio ambiente\n",
    "%matplotlib inline"
   ]
  },
  {
   "cell_type": "markdown",
   "metadata": {},
   "source": [
    "Primeiramente construa seu mapa de ocorrência na memória do computador"
   ]
  },
  {
   "cell_type": "code",
   "execution_count": null,
   "metadata": {},
   "outputs": [],
   "source": []
  },
  {
   "cell_type": "markdown",
   "metadata": {},
   "source": [
    "Veja agora como é fácil visualizar o mapa. Vamos utilizar a função `imshow` da *Matplotlib*, que aceita uma matriz e a colore conforme os valores de seus elementos. Você pode modificar os parâmetros da função e ver como eles afetam o resultado."
   ]
  },
  {
   "cell_type": "code",
   "execution_count": null,
   "metadata": {},
   "outputs": [],
   "source": []
  },
  {
   "cell_type": "markdown",
   "metadata": {},
   "source": [
    "Podemos também, com um pouco mais de código, sobrepor o grid à nossa imagem inicial"
   ]
  },
  {
   "cell_type": "code",
   "execution_count": 67,
   "metadata": {},
   "outputs": [],
   "source": [
    "def plotaFiguraMapa(mapa):\n",
    "    cmap = ListedColormap( ((0,0,0,0),'maroon') )\n",
    "    plt.figure(figsize=(10,10))\n",
    "\n",
    "    pnb_img = plt.imread('./img/trapcams_diagram_original.png')\n",
    "\n",
    "    plt.imshow(m,cmap=cmap, extent=[321,490,557,397])\n",
    "    plt.imshow(plt.imread('./img/trapcams_diagram_original.png'), zorder=-1,extent=[0,850,667,0])\n",
    "\n",
    "\n",
    "    plt.show()"
   ]
  },
  {
   "cell_type": "code",
   "execution_count": null,
   "metadata": {},
   "outputs": [],
   "source": []
  },
  {
   "cell_type": "markdown",
   "metadata": {},
   "source": [
    "---"
   ]
  },
  {
   "cell_type": "markdown",
   "metadata": {},
   "source": [
    "## Construindo a aplicação final"
   ]
  },
  {
   "cell_type": "markdown",
   "metadata": {},
   "source": [
    "Para facilitar o uso da sua aplicação por colegas (ou por você próprio), seria ideal que o usuário precisasse apenas informar o nome da espécie, e o programa tomasse conta de todo o resto, mostrando ao final a figura do mapa de distribuição da espécie escolhida. Construa esta funcionalidade abaixo. Para perguntar o nome da espécie ao usuário utilize a função `input`."
   ]
  },
  {
   "cell_type": "code",
   "execution_count": null,
   "metadata": {},
   "outputs": [],
   "source": []
  }
 ],
 "metadata": {
  "kernelspec": {
   "display_name": "Python 3",
   "language": "python",
   "name": "python3"
  },
  "language_info": {
   "codemirror_mode": {
    "name": "ipython",
    "version": 3
   },
   "file_extension": ".py",
   "mimetype": "text/x-python",
   "name": "python",
   "nbconvert_exporter": "python",
   "pygments_lexer": "ipython3",
   "version": "3.6.5"
  },
  "toc": {
   "base_numbering": 1,
   "nav_menu": {},
   "number_sections": false,
   "sideBar": true,
   "skip_h1_title": false,
   "title_cell": "Conteúdos",
   "title_sidebar": "Contents",
   "toc_cell": true,
   "toc_position": {},
   "toc_section_display": true,
   "toc_window_display": false
  }
 },
 "nbformat": 4,
 "nbformat_minor": 2
}
